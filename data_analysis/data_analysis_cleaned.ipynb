{
 "cells": [
  {
   "cell_type": "markdown",
   "id": "1bc06e6c",
   "metadata": {},
   "source": [
    "# Data Analysis"
   ]
  },
  {
   "cell_type": "code",
   "execution_count": 1,
   "id": "ebd0b6f9",
   "metadata": {},
   "outputs": [
    {
     "name": "stdout",
     "output_type": "stream",
     "text": [
      "Requirement already satisfied: python-dotenv in c:\\users\\cody\\anaconda3\\envs\\dev\\lib\\site-packages (1.0.0)\n",
      "Requirement already satisfied: requests in c:\\users\\cody\\anaconda3\\envs\\dev\\lib\\site-packages (2.28.1)\n",
      "Requirement already satisfied: charset-normalizer<3,>=2 in c:\\users\\cody\\anaconda3\\envs\\dev\\lib\\site-packages (from requests) (2.0.4)\n",
      "Requirement already satisfied: urllib3<1.27,>=1.21.1 in c:\\users\\cody\\anaconda3\\envs\\dev\\lib\\site-packages (from requests) (1.26.15)\n",
      "Requirement already satisfied: certifi>=2017.4.17 in c:\\users\\cody\\anaconda3\\envs\\dev\\lib\\site-packages (from requests) (2022.12.7)\n",
      "Requirement already satisfied: idna<4,>=2.5 in c:\\users\\cody\\anaconda3\\envs\\dev\\lib\\site-packages (from requests) (3.4)\n",
      "Requirement already satisfied: geopandas in c:\\users\\cody\\anaconda3\\envs\\dev\\lib\\site-packages (0.9.0)\n",
      "Requirement already satisfied: pyproj>=2.2.0 in c:\\users\\cody\\anaconda3\\envs\\dev\\lib\\site-packages (from geopandas) (3.4.1)\n",
      "Requirement already satisfied: fiona>=1.8 in c:\\users\\cody\\anaconda3\\envs\\dev\\lib\\site-packages (from geopandas) (1.9.4.post1)\n",
      "Requirement already satisfied: pandas>=0.24.0 in c:\\users\\cody\\anaconda3\\envs\\dev\\lib\\site-packages (from geopandas) (1.5.3)\n",
      "Requirement already satisfied: shapely>=1.6 in c:\\users\\cody\\anaconda3\\envs\\dev\\lib\\site-packages (from geopandas) (2.0.1)\n",
      "Requirement already satisfied: attrs>=19.2.0 in c:\\users\\cody\\anaconda3\\envs\\dev\\lib\\site-packages (from fiona>=1.8->geopandas) (22.1.0)\n",
      "Requirement already satisfied: click~=8.0 in c:\\users\\cody\\anaconda3\\envs\\dev\\lib\\site-packages (from fiona>=1.8->geopandas) (8.0.4)\n",
      "Requirement already satisfied: certifi in c:\\users\\cody\\anaconda3\\envs\\dev\\lib\\site-packages (from fiona>=1.8->geopandas) (2022.12.7)\n",
      "Requirement already satisfied: cligj>=0.5 in c:\\users\\cody\\anaconda3\\envs\\dev\\lib\\site-packages (from fiona>=1.8->geopandas) (0.7.2)\n",
      "Requirement already satisfied: click-plugins>=1.0 in c:\\users\\cody\\anaconda3\\envs\\dev\\lib\\site-packages (from fiona>=1.8->geopandas) (1.1.1)\n",
      "Requirement already satisfied: six in c:\\users\\cody\\anaconda3\\envs\\dev\\lib\\site-packages (from fiona>=1.8->geopandas) (1.16.0)\n",
      "Requirement already satisfied: python-dateutil>=2.8.1 in c:\\users\\cody\\anaconda3\\envs\\dev\\lib\\site-packages (from pandas>=0.24.0->geopandas) (2.8.2)\n",
      "Requirement already satisfied: pytz>=2020.1 in c:\\users\\cody\\anaconda3\\envs\\dev\\lib\\site-packages (from pandas>=0.24.0->geopandas) (2022.7)\n",
      "Requirement already satisfied: numpy>=1.21.0 in c:\\users\\cody\\anaconda3\\envs\\dev\\lib\\site-packages (from pandas>=0.24.0->geopandas) (1.23.5)\n",
      "Requirement already satisfied: colorama in c:\\users\\cody\\anaconda3\\envs\\dev\\lib\\site-packages (from click~=8.0->fiona>=1.8->geopandas) (0.4.6)\n"
     ]
    }
   ],
   "source": [
    "# Install the needed dependencies\n",
    "import sys\n",
    "!{sys.executable} -m pip install python-dotenv\n",
    "!{sys.executable} -m pip install requests\n",
    "!{sys.executable} -m pip install geopandas"
   ]
  },
  {
   "cell_type": "code",
   "execution_count": 2,
   "id": "788364c3",
   "metadata": {},
   "outputs": [],
   "source": [
    "# Importing the Needed Dependencies\n",
    "import warnings\n",
    "warnings.simplefilter(action='ignore', category=FutureWarning)\n",
    "import os\n",
    "import requests\n",
    "import json\n",
    "import csv\n",
    "import geopandas as gpd\n",
    "import pandas as pd\n",
    "from pprint import pprint"
   ]
  },
  {
   "cell_type": "code",
   "execution_count": 3,
   "id": "c8025311",
   "metadata": {},
   "outputs": [
    {
     "data": {
      "text/plain": [
       "True"
      ]
     },
     "execution_count": 3,
     "metadata": {},
     "output_type": "execute_result"
    }
   ],
   "source": [
    "# Import the API key\n",
    "from dotenv import load_dotenv # to load secret .env file\n",
    "load_dotenv()"
   ]
  },
  {
   "cell_type": "markdown",
   "id": "71884d10",
   "metadata": {},
   "source": [
    "# Top 3 Alternative Fuel Stations Data"
   ]
  },
  {
   "cell_type": "markdown",
   "id": "482087ff",
   "metadata": {},
   "source": [
    "## How many total of all of the top 3 most common alternative fuel stations are there on the West Coast (California), Central US (Texas) and East coast (New York) combined?"
   ]
  },
  {
   "cell_type": "code",
   "execution_count": 4,
   "id": "b3bd850d",
   "metadata": {},
   "outputs": [],
   "source": [
    "# Gathering information for all of the top 3 most common alternative fuel stations in \n",
    "# California, Texas and New York combined\n",
    "api_key = os.environ[\"AFDC_API\"]\n",
    "url = \"https://developer.nrel.gov/api/alt-fuel-stations/v1.geojson\"\n",
    "top3_alt_fuels = [\"E85\",\"ELEC\",\"LPG\"]\n",
    "country=\"US\"\n",
    "state=\"CA, TX, NY\""
   ]
  },
  {
   "cell_type": "code",
   "execution_count": 5,
   "id": "af94b08e",
   "metadata": {},
   "outputs": [],
   "source": [
    "# Craft the URL params\n",
    "payload = {'api_key': api_key, 'fuel_type': (',').join(top3_alt_fuels), \"country\":country, \"state\":state}"
   ]
  },
  {
   "cell_type": "code",
   "execution_count": 6,
   "id": "aaad55dc",
   "metadata": {},
   "outputs": [],
   "source": [
    "# Requesting the above data from the API\n",
    "r = requests.get(url, params=payload)\n",
    "top3_alt_fuels = r.json()\n",
    "#top3_alt_fuels"
   ]
  },
  {
   "cell_type": "code",
   "execution_count": 7,
   "id": "c4828dfa",
   "metadata": {},
   "outputs": [
    {
     "data": {
      "text/plain": [
       "str"
      ]
     },
     "execution_count": 7,
     "metadata": {},
     "output_type": "execute_result"
    }
   ],
   "source": [
    "# Serializing Json\n",
    "top3_alt_fuels_obj = json.dumps(top3_alt_fuels, indent=4)\n",
    "type(top3_alt_fuels_obj)"
   ]
  },
  {
   "cell_type": "code",
   "execution_count": 8,
   "id": "a4ba9e18",
   "metadata": {},
   "outputs": [],
   "source": [
    "# Writing to top3_alt_fuels.json\n",
    "with open(\"../output_data/data_analysis/json/top3_alt_fuels.json\", \"w\") as outfile:\n",
    "    outfile.write(top3_alt_fuels_obj)"
   ]
  },
  {
   "cell_type": "markdown",
   "id": "354a5b53",
   "metadata": {},
   "source": [
    "### Creating a Dataframe of Top 3 Alternative Fuels"
   ]
  },
  {
   "cell_type": "code",
   "execution_count": 9,
   "id": "27c43dfc",
   "metadata": {},
   "outputs": [],
   "source": [
    "# Extracting the features data\n",
    "# Each feature seems to represent a station on a map\n",
    "features_top3_alt_fuels = top3_alt_fuels['features']\n",
    "#features_top3_alt_fuels"
   ]
  },
  {
   "cell_type": "code",
   "execution_count": 10,
   "id": "b7bb79ca",
   "metadata": {},
   "outputs": [
    {
     "data": {
      "text/html": [
       "<div>\n",
       "<style scoped>\n",
       "    .dataframe tbody tr th:only-of-type {\n",
       "        vertical-align: middle;\n",
       "    }\n",
       "\n",
       "    .dataframe tbody tr th {\n",
       "        vertical-align: top;\n",
       "    }\n",
       "\n",
       "    .dataframe thead th {\n",
       "        text-align: right;\n",
       "    }\n",
       "</style>\n",
       "<table border=\"1\" class=\"dataframe\">\n",
       "  <thead>\n",
       "    <tr style=\"text-align: right;\">\n",
       "      <th></th>\n",
       "      <th>type</th>\n",
       "      <th>geometry</th>\n",
       "      <th>properties</th>\n",
       "    </tr>\n",
       "  </thead>\n",
       "  <tbody>\n",
       "    <tr>\n",
       "      <th>0</th>\n",
       "      <td>Feature</td>\n",
       "      <td>{'type': 'Point', 'coordinates': [-118.3879713...</td>\n",
       "      <td>{'access_code': 'private', 'access_days_time':...</td>\n",
       "    </tr>\n",
       "    <tr>\n",
       "      <th>1</th>\n",
       "      <td>Feature</td>\n",
       "      <td>{'type': 'Point', 'coordinates': [-118.448504,...</td>\n",
       "      <td>{'access_code': 'private', 'access_days_time':...</td>\n",
       "    </tr>\n",
       "    <tr>\n",
       "      <th>2</th>\n",
       "      <td>Feature</td>\n",
       "      <td>{'type': 'Point', 'coordinates': [-118.271387,...</td>\n",
       "      <td>{'access_code': 'public', 'access_days_time': ...</td>\n",
       "    </tr>\n",
       "    <tr>\n",
       "      <th>3</th>\n",
       "      <td>Feature</td>\n",
       "      <td>{'type': 'Point', 'coordinates': [-118.248589,...</td>\n",
       "      <td>{'access_code': 'private', 'access_days_time':...</td>\n",
       "    </tr>\n",
       "    <tr>\n",
       "      <th>4</th>\n",
       "      <td>Feature</td>\n",
       "      <td>{'type': 'Point', 'coordinates': [-118.096665,...</td>\n",
       "      <td>{'access_code': 'private', 'access_days_time':...</td>\n",
       "    </tr>\n",
       "    <tr>\n",
       "      <th>...</th>\n",
       "      <td>...</td>\n",
       "      <td>...</td>\n",
       "      <td>...</td>\n",
       "    </tr>\n",
       "    <tr>\n",
       "      <th>25121</th>\n",
       "      <td>Feature</td>\n",
       "      <td>{'type': 'Point', 'coordinates': [-95.98519, 3...</td>\n",
       "      <td>{'access_code': 'public', 'access_days_time': ...</td>\n",
       "    </tr>\n",
       "    <tr>\n",
       "      <th>25122</th>\n",
       "      <td>Feature</td>\n",
       "      <td>{'type': 'Point', 'coordinates': [-95.98519, 3...</td>\n",
       "      <td>{'access_code': 'public', 'access_days_time': ...</td>\n",
       "    </tr>\n",
       "    <tr>\n",
       "      <th>25123</th>\n",
       "      <td>Feature</td>\n",
       "      <td>{'type': 'Point', 'coordinates': [-95.98519, 3...</td>\n",
       "      <td>{'access_code': 'public', 'access_days_time': ...</td>\n",
       "    </tr>\n",
       "    <tr>\n",
       "      <th>25124</th>\n",
       "      <td>Feature</td>\n",
       "      <td>{'type': 'Point', 'coordinates': [-95.985225, ...</td>\n",
       "      <td>{'access_code': 'public', 'access_days_time': ...</td>\n",
       "    </tr>\n",
       "    <tr>\n",
       "      <th>25125</th>\n",
       "      <td>Feature</td>\n",
       "      <td>{'type': 'Point', 'coordinates': [-95.985225, ...</td>\n",
       "      <td>{'access_code': 'public', 'access_days_time': ...</td>\n",
       "    </tr>\n",
       "  </tbody>\n",
       "</table>\n",
       "<p>25126 rows × 3 columns</p>\n",
       "</div>"
      ],
      "text/plain": [
       "          type                                           geometry  \\\n",
       "0      Feature  {'type': 'Point', 'coordinates': [-118.3879713...   \n",
       "1      Feature  {'type': 'Point', 'coordinates': [-118.448504,...   \n",
       "2      Feature  {'type': 'Point', 'coordinates': [-118.271387,...   \n",
       "3      Feature  {'type': 'Point', 'coordinates': [-118.248589,...   \n",
       "4      Feature  {'type': 'Point', 'coordinates': [-118.096665,...   \n",
       "...        ...                                                ...   \n",
       "25121  Feature  {'type': 'Point', 'coordinates': [-95.98519, 3...   \n",
       "25122  Feature  {'type': 'Point', 'coordinates': [-95.98519, 3...   \n",
       "25123  Feature  {'type': 'Point', 'coordinates': [-95.98519, 3...   \n",
       "25124  Feature  {'type': 'Point', 'coordinates': [-95.985225, ...   \n",
       "25125  Feature  {'type': 'Point', 'coordinates': [-95.985225, ...   \n",
       "\n",
       "                                              properties  \n",
       "0      {'access_code': 'private', 'access_days_time':...  \n",
       "1      {'access_code': 'private', 'access_days_time':...  \n",
       "2      {'access_code': 'public', 'access_days_time': ...  \n",
       "3      {'access_code': 'private', 'access_days_time':...  \n",
       "4      {'access_code': 'private', 'access_days_time':...  \n",
       "...                                                  ...  \n",
       "25121  {'access_code': 'public', 'access_days_time': ...  \n",
       "25122  {'access_code': 'public', 'access_days_time': ...  \n",
       "25123  {'access_code': 'public', 'access_days_time': ...  \n",
       "25124  {'access_code': 'public', 'access_days_time': ...  \n",
       "25125  {'access_code': 'public', 'access_days_time': ...  \n",
       "\n",
       "[25126 rows x 3 columns]"
      ]
     },
     "execution_count": 10,
     "metadata": {},
     "output_type": "execute_result"
    }
   ],
   "source": [
    "# Creating a dataframe for analysis by creating a dictionary of data first\n",
    "# This is the raw form, not very usable\n",
    "features_top3_alt_fuels_df = pd.DataFrame.from_dict(features_top3_alt_fuels)\n",
    "features_top3_alt_fuels_df"
   ]
  },
  {
   "cell_type": "markdown",
   "id": "ffc69401",
   "metadata": {},
   "source": [
    "### Exporting Cleaned Dataframe to CSV"
   ]
  },
  {
   "cell_type": "code",
   "execution_count": 11,
   "id": "63909a0f",
   "metadata": {},
   "outputs": [],
   "source": [
    "import csv\n",
    "\n",
    "# Identifying the data points you need from the data\n",
    "list_to_df = list() # We want to convert this list into a dataframe\n",
    "data_pt = dict() # This is each individual feature/record\n",
    "\n",
    "with open('../output_data/data_analysis/csv/top3_alt_fuels.csv', 'w', newline='') as csvfile:\n",
    "    csvwriter = csv.writer(csvfile, delimiter=',')\n",
    "    \n",
    "    # Insert column headers\n",
    "    csvwriter.writerow(['id', 'state', 'coordinates','fuel type'])\n",
    "\n",
    "    for i, v in features_top3_alt_fuels_df.iterrows():\n",
    "\n",
    "        data_pt['id'] = v['properties']['id']\n",
    "        data_pt['state'] = v['properties']['state']\n",
    "        data_pt['coordinates'] = v['geometry']['coordinates']\n",
    "        data_pt['fuel_type_code'] = v['properties']['fuel_type_code']\n",
    "\n",
    "        #print([data_pt['id'], data_pt['state'], data_pt['coordinates'],data_pt['fuel_type_code']])\n",
    "        csvwriter.writerow([data_pt['id'], data_pt['state'], data_pt['coordinates'],data_pt['fuel_type_code']])"
   ]
  },
  {
   "cell_type": "markdown",
   "id": "3796bb2a",
   "metadata": {},
   "source": [
    "# California Alternate Fuel Stations Data"
   ]
  },
  {
   "cell_type": "markdown",
   "id": "26007fbc",
   "metadata": {},
   "source": [
    "## How many total of all of the top 3 most common alternative fuel stations are there in California?"
   ]
  },
  {
   "cell_type": "code",
   "execution_count": 12,
   "id": "14da57a4",
   "metadata": {},
   "outputs": [],
   "source": [
    "# Gathering information for all of the top 3 most common alternative fuel stations in California\n",
    "api_key = os.environ[\"AFDC_API\"]\n",
    "url = \"https://developer.nrel.gov/api/alt-fuel-stations/v1.geojson\"\n",
    "top3_alt_fuels_CA = [\"E85\",\"ELEC\",\"LPG\"]\n",
    "country=\"US\"\n",
    "state=\"CA\""
   ]
  },
  {
   "cell_type": "code",
   "execution_count": 13,
   "id": "9ac77da3",
   "metadata": {},
   "outputs": [],
   "source": [
    "# Craft the URL params\n",
    "payload = {'api_key': api_key, 'fuel_type': (',').join(top3_alt_fuels_CA), \"country\":country, \"state\":state}"
   ]
  },
  {
   "cell_type": "code",
   "execution_count": 14,
   "id": "70002351",
   "metadata": {},
   "outputs": [],
   "source": [
    "# Requesting the above data from the API\n",
    "r = requests.get(url, params=payload)\n",
    "top3_alt_fuels_CA = r.json()\n",
    "#top3_alt_fuels_CA"
   ]
  },
  {
   "cell_type": "code",
   "execution_count": 15,
   "id": "3d2e75b6",
   "metadata": {},
   "outputs": [
    {
     "data": {
      "text/plain": [
       "str"
      ]
     },
     "execution_count": 15,
     "metadata": {},
     "output_type": "execute_result"
    }
   ],
   "source": [
    "# Serializing Json\n",
    "top3_alt_fuels_CA_obj = json.dumps(top3_alt_fuels_CA, indent=4)\n",
    "type(top3_alt_fuels_CA_obj)"
   ]
  },
  {
   "cell_type": "code",
   "execution_count": 16,
   "id": "fe450150",
   "metadata": {},
   "outputs": [],
   "source": [
    "# Writing to \"top3_alt_fuels_CA.json\"\n",
    "with open(\"../output_data/data_analysis/json/top3_alt_fuels_CA.json\", \"w\") as outfile:\n",
    "    outfile.write(top3_alt_fuels_CA_obj)"
   ]
  },
  {
   "cell_type": "markdown",
   "id": "98dab07d",
   "metadata": {},
   "source": [
    "### Creating a Dataframe of Top 3 Alternative Fuels in California"
   ]
  },
  {
   "cell_type": "code",
   "execution_count": 17,
   "id": "6c189b07",
   "metadata": {},
   "outputs": [],
   "source": [
    "# Extracting the features data\n",
    "# Each feature seems to represent a station on a map\n",
    "features_top3_alt_fuels_CA = top3_alt_fuels_CA['features']\n",
    "#features_top3_alt_fuels_CA"
   ]
  },
  {
   "cell_type": "code",
   "execution_count": 18,
   "id": "3301d3a4",
   "metadata": {},
   "outputs": [
    {
     "data": {
      "text/html": [
       "<div>\n",
       "<style scoped>\n",
       "    .dataframe tbody tr th:only-of-type {\n",
       "        vertical-align: middle;\n",
       "    }\n",
       "\n",
       "    .dataframe tbody tr th {\n",
       "        vertical-align: top;\n",
       "    }\n",
       "\n",
       "    .dataframe thead th {\n",
       "        text-align: right;\n",
       "    }\n",
       "</style>\n",
       "<table border=\"1\" class=\"dataframe\">\n",
       "  <thead>\n",
       "    <tr style=\"text-align: right;\">\n",
       "      <th></th>\n",
       "      <th>type</th>\n",
       "      <th>geometry</th>\n",
       "      <th>properties</th>\n",
       "    </tr>\n",
       "  </thead>\n",
       "  <tbody>\n",
       "    <tr>\n",
       "      <th>0</th>\n",
       "      <td>Feature</td>\n",
       "      <td>{'type': 'Point', 'coordinates': [-118.3879713...</td>\n",
       "      <td>{'access_code': 'private', 'access_days_time':...</td>\n",
       "    </tr>\n",
       "    <tr>\n",
       "      <th>1</th>\n",
       "      <td>Feature</td>\n",
       "      <td>{'type': 'Point', 'coordinates': [-118.448504,...</td>\n",
       "      <td>{'access_code': 'private', 'access_days_time':...</td>\n",
       "    </tr>\n",
       "    <tr>\n",
       "      <th>2</th>\n",
       "      <td>Feature</td>\n",
       "      <td>{'type': 'Point', 'coordinates': [-118.271387,...</td>\n",
       "      <td>{'access_code': 'public', 'access_days_time': ...</td>\n",
       "    </tr>\n",
       "    <tr>\n",
       "      <th>3</th>\n",
       "      <td>Feature</td>\n",
       "      <td>{'type': 'Point', 'coordinates': [-118.248589,...</td>\n",
       "      <td>{'access_code': 'private', 'access_days_time':...</td>\n",
       "    </tr>\n",
       "    <tr>\n",
       "      <th>4</th>\n",
       "      <td>Feature</td>\n",
       "      <td>{'type': 'Point', 'coordinates': [-118.096665,...</td>\n",
       "      <td>{'access_code': 'private', 'access_days_time':...</td>\n",
       "    </tr>\n",
       "    <tr>\n",
       "      <th>...</th>\n",
       "      <td>...</td>\n",
       "      <td>...</td>\n",
       "      <td>...</td>\n",
       "    </tr>\n",
       "    <tr>\n",
       "      <th>17322</th>\n",
       "      <td>Feature</td>\n",
       "      <td>{'type': 'Point', 'coordinates': [-116.969808,...</td>\n",
       "      <td>{'access_code': 'public', 'access_days_time': ...</td>\n",
       "    </tr>\n",
       "    <tr>\n",
       "      <th>17323</th>\n",
       "      <td>Feature</td>\n",
       "      <td>{'type': 'Point', 'coordinates': [-116.969739,...</td>\n",
       "      <td>{'access_code': 'public', 'access_days_time': ...</td>\n",
       "    </tr>\n",
       "    <tr>\n",
       "      <th>17324</th>\n",
       "      <td>Feature</td>\n",
       "      <td>{'type': 'Point', 'coordinates': [-119.28747, ...</td>\n",
       "      <td>{'access_code': None, 'access_days_time': 'Emp...</td>\n",
       "    </tr>\n",
       "    <tr>\n",
       "      <th>17325</th>\n",
       "      <td>Feature</td>\n",
       "      <td>{'type': 'Point', 'coordinates': [-116.969933,...</td>\n",
       "      <td>{'access_code': 'public', 'access_days_time': ...</td>\n",
       "    </tr>\n",
       "    <tr>\n",
       "      <th>17326</th>\n",
       "      <td>Feature</td>\n",
       "      <td>{'type': 'Point', 'coordinates': [-122.1495, 3...</td>\n",
       "      <td>{'access_code': 'public', 'access_days_time': ...</td>\n",
       "    </tr>\n",
       "  </tbody>\n",
       "</table>\n",
       "<p>17327 rows × 3 columns</p>\n",
       "</div>"
      ],
      "text/plain": [
       "          type                                           geometry  \\\n",
       "0      Feature  {'type': 'Point', 'coordinates': [-118.3879713...   \n",
       "1      Feature  {'type': 'Point', 'coordinates': [-118.448504,...   \n",
       "2      Feature  {'type': 'Point', 'coordinates': [-118.271387,...   \n",
       "3      Feature  {'type': 'Point', 'coordinates': [-118.248589,...   \n",
       "4      Feature  {'type': 'Point', 'coordinates': [-118.096665,...   \n",
       "...        ...                                                ...   \n",
       "17322  Feature  {'type': 'Point', 'coordinates': [-116.969808,...   \n",
       "17323  Feature  {'type': 'Point', 'coordinates': [-116.969739,...   \n",
       "17324  Feature  {'type': 'Point', 'coordinates': [-119.28747, ...   \n",
       "17325  Feature  {'type': 'Point', 'coordinates': [-116.969933,...   \n",
       "17326  Feature  {'type': 'Point', 'coordinates': [-122.1495, 3...   \n",
       "\n",
       "                                              properties  \n",
       "0      {'access_code': 'private', 'access_days_time':...  \n",
       "1      {'access_code': 'private', 'access_days_time':...  \n",
       "2      {'access_code': 'public', 'access_days_time': ...  \n",
       "3      {'access_code': 'private', 'access_days_time':...  \n",
       "4      {'access_code': 'private', 'access_days_time':...  \n",
       "...                                                  ...  \n",
       "17322  {'access_code': 'public', 'access_days_time': ...  \n",
       "17323  {'access_code': 'public', 'access_days_time': ...  \n",
       "17324  {'access_code': None, 'access_days_time': 'Emp...  \n",
       "17325  {'access_code': 'public', 'access_days_time': ...  \n",
       "17326  {'access_code': 'public', 'access_days_time': ...  \n",
       "\n",
       "[17327 rows x 3 columns]"
      ]
     },
     "execution_count": 18,
     "metadata": {},
     "output_type": "execute_result"
    }
   ],
   "source": [
    "# Creating a dataframe for analysis by creating a dictionary of data first\n",
    "# This is the raw form, not very usable\n",
    "features_top3_alt_fuels_CA_df = pd.DataFrame.from_dict(features_top3_alt_fuels_CA)\n",
    "features_top3_alt_fuels_CA_df"
   ]
  },
  {
   "cell_type": "markdown",
   "id": "0735c125",
   "metadata": {},
   "source": [
    "### Exporting Cleaned Dataframe to CSV"
   ]
  },
  {
   "cell_type": "code",
   "execution_count": 19,
   "id": "c3543292",
   "metadata": {},
   "outputs": [],
   "source": [
    "import csv\n",
    "\n",
    "# Identifying the data points you need from the data\n",
    "list_to_df = list() # We want to convert this list into a dataframe\n",
    "data_pt = dict() # This is each individual feature/record\n",
    "\n",
    "with open('../output_data/data_analysis/csv/top3_alt_fuels_CA.csv', 'w', newline='') as csvfile:\n",
    "    csvwriter = csv.writer(csvfile, delimiter=',')\n",
    "    \n",
    "    # Insert column headers\n",
    "    csvwriter.writerow(['id', 'state', 'coordinates','fuel type'])\n",
    "\n",
    "    for i, v in features_top3_alt_fuels_CA_df.iterrows():\n",
    "\n",
    "        data_pt['id'] = v['properties']['id']\n",
    "        data_pt['state'] = v['properties']['state']\n",
    "        data_pt['coordinates'] = v['geometry']['coordinates']\n",
    "        data_pt['fuel_type_code'] = v['properties']['fuel_type_code']\n",
    "\n",
    "        #print([data_pt['id'], data_pt['state'], data_pt['coordinates'],data_pt['fuel_type_code']])\n",
    "        csvwriter.writerow([data_pt['id'], data_pt['state'], data_pt['coordinates'],data_pt['fuel_type_code']])"
   ]
  },
  {
   "cell_type": "markdown",
   "id": "d86213ba",
   "metadata": {},
   "source": [
    "## How many ethanol fueling stations are there in California?"
   ]
  },
  {
   "cell_type": "code",
   "execution_count": 20,
   "id": "29b3b78f",
   "metadata": {},
   "outputs": [],
   "source": [
    "# Gathering information for all of the ethanol fuel stations in California\n",
    "api_key = os.environ[\"AFDC_API\"]\n",
    "url = \"https://developer.nrel.gov/api/alt-fuel-stations/v1.geojson\"\n",
    "E85_CA = [\"E85\"]\n",
    "country=\"US\"\n",
    "state=\"CA\""
   ]
  },
  {
   "cell_type": "code",
   "execution_count": 21,
   "id": "77b468f2",
   "metadata": {},
   "outputs": [],
   "source": [
    "# Craft the URL params\n",
    "payload = {'api_key': api_key, 'fuel_type': (',').join(E85_CA), \"country\":country, \"state\":state}"
   ]
  },
  {
   "cell_type": "code",
   "execution_count": 22,
   "id": "fb0f75df",
   "metadata": {},
   "outputs": [],
   "source": [
    "# Requesting the above data from the API\n",
    "r = requests.get(url, params=payload)\n",
    "E85_CA = r.json()\n",
    "#E85_CA"
   ]
  },
  {
   "cell_type": "code",
   "execution_count": 23,
   "id": "4118501f",
   "metadata": {},
   "outputs": [
    {
     "data": {
      "text/plain": [
       "str"
      ]
     },
     "execution_count": 23,
     "metadata": {},
     "output_type": "execute_result"
    }
   ],
   "source": [
    "# Serializing Json\n",
    "E85_CA_obj = json.dumps(E85_CA, indent=4)\n",
    "type(E85_CA_obj)"
   ]
  },
  {
   "cell_type": "code",
   "execution_count": 24,
   "id": "f1b7d241",
   "metadata": {},
   "outputs": [],
   "source": [
    "# Writing to \"E85_CA.json\"\n",
    "with open(\"../output_data/data_analysis/json/E85_CA.json\", \"w\") as outfile:\n",
    "    outfile.write(E85_CA_obj)"
   ]
  },
  {
   "cell_type": "markdown",
   "id": "9259dc9d",
   "metadata": {},
   "source": [
    "### Creating a Dataframe of Ethanol Fueling Stations in California"
   ]
  },
  {
   "cell_type": "code",
   "execution_count": 25,
   "id": "41ce80fb",
   "metadata": {},
   "outputs": [],
   "source": [
    "# Extracting the features data\n",
    "# Each feature seems to represent a station on a map\n",
    "features_E85_CA = E85_CA['features']\n",
    "#features_E85_CA"
   ]
  },
  {
   "cell_type": "code",
   "execution_count": 26,
   "id": "0b9c5ebd",
   "metadata": {},
   "outputs": [
    {
     "data": {
      "text/html": [
       "<div>\n",
       "<style scoped>\n",
       "    .dataframe tbody tr th:only-of-type {\n",
       "        vertical-align: middle;\n",
       "    }\n",
       "\n",
       "    .dataframe tbody tr th {\n",
       "        vertical-align: top;\n",
       "    }\n",
       "\n",
       "    .dataframe thead th {\n",
       "        text-align: right;\n",
       "    }\n",
       "</style>\n",
       "<table border=\"1\" class=\"dataframe\">\n",
       "  <thead>\n",
       "    <tr style=\"text-align: right;\">\n",
       "      <th></th>\n",
       "      <th>type</th>\n",
       "      <th>geometry</th>\n",
       "      <th>properties</th>\n",
       "    </tr>\n",
       "  </thead>\n",
       "  <tbody>\n",
       "    <tr>\n",
       "      <th>0</th>\n",
       "      <td>Feature</td>\n",
       "      <td>{'type': 'Point', 'coordinates': [-117.107501,...</td>\n",
       "      <td>{'access_code': 'public', 'access_days_time': ...</td>\n",
       "    </tr>\n",
       "    <tr>\n",
       "      <th>1</th>\n",
       "      <td>Feature</td>\n",
       "      <td>{'type': 'Point', 'coordinates': [-117.251427,...</td>\n",
       "      <td>{'access_code': 'public', 'access_days_time': ...</td>\n",
       "    </tr>\n",
       "    <tr>\n",
       "      <th>2</th>\n",
       "      <td>Feature</td>\n",
       "      <td>{'type': 'Point', 'coordinates': [-118.465643,...</td>\n",
       "      <td>{'access_code': 'public', 'access_days_time': ...</td>\n",
       "    </tr>\n",
       "    <tr>\n",
       "      <th>3</th>\n",
       "      <td>Feature</td>\n",
       "      <td>{'type': 'Point', 'coordinates': [-117.364261,...</td>\n",
       "      <td>{'access_code': 'public', 'access_days_time': ...</td>\n",
       "    </tr>\n",
       "    <tr>\n",
       "      <th>4</th>\n",
       "      <td>Feature</td>\n",
       "      <td>{'type': 'Point', 'coordinates': [-121.999551,...</td>\n",
       "      <td>{'access_code': 'public', 'access_days_time': ...</td>\n",
       "    </tr>\n",
       "    <tr>\n",
       "      <th>...</th>\n",
       "      <td>...</td>\n",
       "      <td>...</td>\n",
       "      <td>...</td>\n",
       "    </tr>\n",
       "    <tr>\n",
       "      <th>349</th>\n",
       "      <td>Feature</td>\n",
       "      <td>{'type': 'Point', 'coordinates': [-118.06816, ...</td>\n",
       "      <td>{'access_code': 'public', 'access_days_time': ...</td>\n",
       "    </tr>\n",
       "    <tr>\n",
       "      <th>350</th>\n",
       "      <td>Feature</td>\n",
       "      <td>{'type': 'Point', 'coordinates': [-117.7356403...</td>\n",
       "      <td>{'access_code': 'public', 'access_days_time': ...</td>\n",
       "    </tr>\n",
       "    <tr>\n",
       "      <th>351</th>\n",
       "      <td>Feature</td>\n",
       "      <td>{'type': 'Point', 'coordinates': [-117.4038544...</td>\n",
       "      <td>{'access_code': 'public', 'access_days_time': ...</td>\n",
       "    </tr>\n",
       "    <tr>\n",
       "      <th>352</th>\n",
       "      <td>Feature</td>\n",
       "      <td>{'type': 'Point', 'coordinates': [-118.2534124...</td>\n",
       "      <td>{'access_code': 'public', 'access_days_time': ...</td>\n",
       "    </tr>\n",
       "    <tr>\n",
       "      <th>353</th>\n",
       "      <td>Feature</td>\n",
       "      <td>{'type': 'Point', 'coordinates': [-117.558945,...</td>\n",
       "      <td>{'access_code': 'public', 'access_days_time': ...</td>\n",
       "    </tr>\n",
       "  </tbody>\n",
       "</table>\n",
       "<p>354 rows × 3 columns</p>\n",
       "</div>"
      ],
      "text/plain": [
       "        type                                           geometry  \\\n",
       "0    Feature  {'type': 'Point', 'coordinates': [-117.107501,...   \n",
       "1    Feature  {'type': 'Point', 'coordinates': [-117.251427,...   \n",
       "2    Feature  {'type': 'Point', 'coordinates': [-118.465643,...   \n",
       "3    Feature  {'type': 'Point', 'coordinates': [-117.364261,...   \n",
       "4    Feature  {'type': 'Point', 'coordinates': [-121.999551,...   \n",
       "..       ...                                                ...   \n",
       "349  Feature  {'type': 'Point', 'coordinates': [-118.06816, ...   \n",
       "350  Feature  {'type': 'Point', 'coordinates': [-117.7356403...   \n",
       "351  Feature  {'type': 'Point', 'coordinates': [-117.4038544...   \n",
       "352  Feature  {'type': 'Point', 'coordinates': [-118.2534124...   \n",
       "353  Feature  {'type': 'Point', 'coordinates': [-117.558945,...   \n",
       "\n",
       "                                            properties  \n",
       "0    {'access_code': 'public', 'access_days_time': ...  \n",
       "1    {'access_code': 'public', 'access_days_time': ...  \n",
       "2    {'access_code': 'public', 'access_days_time': ...  \n",
       "3    {'access_code': 'public', 'access_days_time': ...  \n",
       "4    {'access_code': 'public', 'access_days_time': ...  \n",
       "..                                                 ...  \n",
       "349  {'access_code': 'public', 'access_days_time': ...  \n",
       "350  {'access_code': 'public', 'access_days_time': ...  \n",
       "351  {'access_code': 'public', 'access_days_time': ...  \n",
       "352  {'access_code': 'public', 'access_days_time': ...  \n",
       "353  {'access_code': 'public', 'access_days_time': ...  \n",
       "\n",
       "[354 rows x 3 columns]"
      ]
     },
     "execution_count": 26,
     "metadata": {},
     "output_type": "execute_result"
    }
   ],
   "source": [
    "# Creating a dataframe for analysis by creating a dictionary of data first\n",
    "# This is the raw form, not very usable\n",
    "features_E85_CA_df = pd.DataFrame.from_dict(features_E85_CA)\n",
    "features_E85_CA_df"
   ]
  },
  {
   "cell_type": "markdown",
   "id": "bc67de8f",
   "metadata": {},
   "source": [
    "### Exporting Cleaned Dataframe to CSV"
   ]
  },
  {
   "cell_type": "code",
   "execution_count": 27,
   "id": "66395499",
   "metadata": {},
   "outputs": [],
   "source": [
    "import csv\n",
    "\n",
    "# Identifying the data points you need from the data\n",
    "list_to_df = list() # We want to convert this list into a dataframe\n",
    "data_pt = dict() # This is each individual feature/record\n",
    "\n",
    "with open('../output_data/data_analysis/csv/E85_CA.csv', 'w', newline='') as csvfile:\n",
    "    csvwriter = csv.writer(csvfile, delimiter=',')\n",
    "    \n",
    "    # Insert column headers\n",
    "    csvwriter.writerow(['id', 'state', 'coordinates','fuel type'])\n",
    "\n",
    "    for i, v in features_E85_CA_df.iterrows():\n",
    "\n",
    "        data_pt['id'] = v['properties']['id']\n",
    "        data_pt['state'] = v['properties']['state']\n",
    "        data_pt['coordinates'] = v['geometry']['coordinates']\n",
    "        data_pt['fuel_type_code'] = v['properties']['fuel_type_code']\n",
    "\n",
    "        #print([data_pt['id'], data_pt['state'], data_pt['coordinates'],data_pt['fuel_type_code']])\n",
    "        csvwriter.writerow([data_pt['id'], data_pt['state'], data_pt['coordinates'],data_pt['fuel_type_code']])"
   ]
  },
  {
   "cell_type": "markdown",
   "id": "5ac36e34",
   "metadata": {},
   "source": [
    "## How many electric charging stations are there in California?"
   ]
  },
  {
   "cell_type": "code",
   "execution_count": 28,
   "id": "0c25a51d",
   "metadata": {},
   "outputs": [],
   "source": [
    "# Gathering information for all of the electric charging stations in California\n",
    "api_key = os.environ[\"AFDC_API\"]\n",
    "url = \"https://developer.nrel.gov/api/alt-fuel-stations/v1.geojson\"\n",
    "ELEC_CA = [\"ELEC\"]\n",
    "country=\"US\"\n",
    "state=\"CA\""
   ]
  },
  {
   "cell_type": "code",
   "execution_count": 29,
   "id": "4e4e4e19",
   "metadata": {},
   "outputs": [],
   "source": [
    "# Craft the URL params\n",
    "payload = {'api_key': api_key, 'fuel_type': (',').join(ELEC_CA), \"country\":country, \"state\":state}"
   ]
  },
  {
   "cell_type": "code",
   "execution_count": 30,
   "id": "5029ae27",
   "metadata": {},
   "outputs": [],
   "source": [
    "# Requesting the above data from the API\n",
    "r = requests.get(url, params=payload)\n",
    "ELEC_CA = r.json()\n",
    "#ELEC_CA"
   ]
  },
  {
   "cell_type": "code",
   "execution_count": 31,
   "id": "4ed2d0c2",
   "metadata": {},
   "outputs": [
    {
     "data": {
      "text/plain": [
       "str"
      ]
     },
     "execution_count": 31,
     "metadata": {},
     "output_type": "execute_result"
    }
   ],
   "source": [
    "# Serializing Json\n",
    "ELEC_CA_obj = json.dumps(ELEC_CA, indent=4)\n",
    "type(ELEC_CA_obj)"
   ]
  },
  {
   "cell_type": "code",
   "execution_count": 32,
   "id": "86d55961",
   "metadata": {},
   "outputs": [],
   "source": [
    "# Writing to \"ELEC_CA.json\"\n",
    "with open(\"../output_data/data_analysis/json/ELEC_CA.json\", \"w\") as outfile:\n",
    "    outfile.write(ELEC_CA_obj)"
   ]
  },
  {
   "cell_type": "markdown",
   "id": "e4be0a1e",
   "metadata": {},
   "source": [
    "### Creating a Dataframe of Electric Car Charging Stations in California"
   ]
  },
  {
   "cell_type": "code",
   "execution_count": 33,
   "id": "5bdc4c4b",
   "metadata": {},
   "outputs": [],
   "source": [
    "# Extracting the features data\n",
    "# Each feature seems to represent a station on a map\n",
    "features_ELEC_CA = ELEC_CA['features']\n",
    "#features_ELEC_CA"
   ]
  },
  {
   "cell_type": "code",
   "execution_count": 34,
   "id": "ad5efbe8",
   "metadata": {},
   "outputs": [
    {
     "data": {
      "text/html": [
       "<div>\n",
       "<style scoped>\n",
       "    .dataframe tbody tr th:only-of-type {\n",
       "        vertical-align: middle;\n",
       "    }\n",
       "\n",
       "    .dataframe tbody tr th {\n",
       "        vertical-align: top;\n",
       "    }\n",
       "\n",
       "    .dataframe thead th {\n",
       "        text-align: right;\n",
       "    }\n",
       "</style>\n",
       "<table border=\"1\" class=\"dataframe\">\n",
       "  <thead>\n",
       "    <tr style=\"text-align: right;\">\n",
       "      <th></th>\n",
       "      <th>type</th>\n",
       "      <th>geometry</th>\n",
       "      <th>properties</th>\n",
       "    </tr>\n",
       "  </thead>\n",
       "  <tbody>\n",
       "    <tr>\n",
       "      <th>0</th>\n",
       "      <td>Feature</td>\n",
       "      <td>{'type': 'Point', 'coordinates': [-118.3879713...</td>\n",
       "      <td>{'access_code': 'private', 'access_days_time':...</td>\n",
       "    </tr>\n",
       "    <tr>\n",
       "      <th>1</th>\n",
       "      <td>Feature</td>\n",
       "      <td>{'type': 'Point', 'coordinates': [-118.448504,...</td>\n",
       "      <td>{'access_code': 'private', 'access_days_time':...</td>\n",
       "    </tr>\n",
       "    <tr>\n",
       "      <th>2</th>\n",
       "      <td>Feature</td>\n",
       "      <td>{'type': 'Point', 'coordinates': [-118.271387,...</td>\n",
       "      <td>{'access_code': 'public', 'access_days_time': ...</td>\n",
       "    </tr>\n",
       "    <tr>\n",
       "      <th>3</th>\n",
       "      <td>Feature</td>\n",
       "      <td>{'type': 'Point', 'coordinates': [-118.248589,...</td>\n",
       "      <td>{'access_code': 'private', 'access_days_time':...</td>\n",
       "    </tr>\n",
       "    <tr>\n",
       "      <th>4</th>\n",
       "      <td>Feature</td>\n",
       "      <td>{'type': 'Point', 'coordinates': [-118.096665,...</td>\n",
       "      <td>{'access_code': 'private', 'access_days_time':...</td>\n",
       "    </tr>\n",
       "    <tr>\n",
       "      <th>...</th>\n",
       "      <td>...</td>\n",
       "      <td>...</td>\n",
       "      <td>...</td>\n",
       "    </tr>\n",
       "    <tr>\n",
       "      <th>16711</th>\n",
       "      <td>Feature</td>\n",
       "      <td>{'type': 'Point', 'coordinates': [-116.969808,...</td>\n",
       "      <td>{'access_code': 'public', 'access_days_time': ...</td>\n",
       "    </tr>\n",
       "    <tr>\n",
       "      <th>16712</th>\n",
       "      <td>Feature</td>\n",
       "      <td>{'type': 'Point', 'coordinates': [-116.969739,...</td>\n",
       "      <td>{'access_code': 'public', 'access_days_time': ...</td>\n",
       "    </tr>\n",
       "    <tr>\n",
       "      <th>16713</th>\n",
       "      <td>Feature</td>\n",
       "      <td>{'type': 'Point', 'coordinates': [-119.28747, ...</td>\n",
       "      <td>{'access_code': None, 'access_days_time': 'Emp...</td>\n",
       "    </tr>\n",
       "    <tr>\n",
       "      <th>16714</th>\n",
       "      <td>Feature</td>\n",
       "      <td>{'type': 'Point', 'coordinates': [-116.969933,...</td>\n",
       "      <td>{'access_code': 'public', 'access_days_time': ...</td>\n",
       "    </tr>\n",
       "    <tr>\n",
       "      <th>16715</th>\n",
       "      <td>Feature</td>\n",
       "      <td>{'type': 'Point', 'coordinates': [-122.1495, 3...</td>\n",
       "      <td>{'access_code': 'public', 'access_days_time': ...</td>\n",
       "    </tr>\n",
       "  </tbody>\n",
       "</table>\n",
       "<p>16716 rows × 3 columns</p>\n",
       "</div>"
      ],
      "text/plain": [
       "          type                                           geometry  \\\n",
       "0      Feature  {'type': 'Point', 'coordinates': [-118.3879713...   \n",
       "1      Feature  {'type': 'Point', 'coordinates': [-118.448504,...   \n",
       "2      Feature  {'type': 'Point', 'coordinates': [-118.271387,...   \n",
       "3      Feature  {'type': 'Point', 'coordinates': [-118.248589,...   \n",
       "4      Feature  {'type': 'Point', 'coordinates': [-118.096665,...   \n",
       "...        ...                                                ...   \n",
       "16711  Feature  {'type': 'Point', 'coordinates': [-116.969808,...   \n",
       "16712  Feature  {'type': 'Point', 'coordinates': [-116.969739,...   \n",
       "16713  Feature  {'type': 'Point', 'coordinates': [-119.28747, ...   \n",
       "16714  Feature  {'type': 'Point', 'coordinates': [-116.969933,...   \n",
       "16715  Feature  {'type': 'Point', 'coordinates': [-122.1495, 3...   \n",
       "\n",
       "                                              properties  \n",
       "0      {'access_code': 'private', 'access_days_time':...  \n",
       "1      {'access_code': 'private', 'access_days_time':...  \n",
       "2      {'access_code': 'public', 'access_days_time': ...  \n",
       "3      {'access_code': 'private', 'access_days_time':...  \n",
       "4      {'access_code': 'private', 'access_days_time':...  \n",
       "...                                                  ...  \n",
       "16711  {'access_code': 'public', 'access_days_time': ...  \n",
       "16712  {'access_code': 'public', 'access_days_time': ...  \n",
       "16713  {'access_code': None, 'access_days_time': 'Emp...  \n",
       "16714  {'access_code': 'public', 'access_days_time': ...  \n",
       "16715  {'access_code': 'public', 'access_days_time': ...  \n",
       "\n",
       "[16716 rows x 3 columns]"
      ]
     },
     "execution_count": 34,
     "metadata": {},
     "output_type": "execute_result"
    }
   ],
   "source": [
    "# Creating a dataframe for analysis by creating a dictionary of data first\n",
    "# This is the raw form, not very usable\n",
    "features_ELEC_CA_df = pd.DataFrame.from_dict(features_ELEC_CA)\n",
    "features_ELEC_CA_df"
   ]
  },
  {
   "cell_type": "markdown",
   "id": "eb61b326",
   "metadata": {},
   "source": [
    "### Exporting Cleaned Dataframe to CSV"
   ]
  },
  {
   "cell_type": "code",
   "execution_count": 35,
   "id": "738fca36",
   "metadata": {},
   "outputs": [],
   "source": [
    "import csv\n",
    "\n",
    "# Identifying the data points you need from the data\n",
    "list_to_df = list() # We want to convert this list into a dataframe\n",
    "data_pt = dict() # This is each individual feature/record\n",
    "\n",
    "with open('../output_data/data_analysis/csv/ELEC_CA.csv', 'w', newline='') as csvfile:\n",
    "    csvwriter = csv.writer(csvfile, delimiter=',')\n",
    "    \n",
    "    # Insert column headers\n",
    "    csvwriter.writerow(['id', 'state', 'coordinates','fuel type'])\n",
    "\n",
    "    for i, v in features_ELEC_CA_df.iterrows():\n",
    "\n",
    "        data_pt['id'] = v['properties']['id']\n",
    "        data_pt['state'] = v['properties']['state']\n",
    "        data_pt['coordinates'] = v['geometry']['coordinates']\n",
    "        data_pt['fuel_type_code'] = v['properties']['fuel_type_code']\n",
    "\n",
    "        #print([data_pt['id'], data_pt['state'], data_pt['coordinates'],data_pt['fuel_type_code']])\n",
    "        csvwriter.writerow([data_pt['id'], data_pt['state'], data_pt['coordinates'],data_pt['fuel_type_code']])"
   ]
  },
  {
   "cell_type": "markdown",
   "id": "de7a5072",
   "metadata": {},
   "source": [
    "## How many propane fueling stations are there in California?"
   ]
  },
  {
   "cell_type": "code",
   "execution_count": 36,
   "id": "b24f9079",
   "metadata": {},
   "outputs": [],
   "source": [
    "# Gathering information for all of the propane fuel stations in California\n",
    "api_key = os.environ[\"AFDC_API\"]\n",
    "url = \"https://developer.nrel.gov/api/alt-fuel-stations/v1.geojson\"\n",
    "LPG_CA = [\"LPG\"]\n",
    "country=\"US\"\n",
    "state=\"CA\""
   ]
  },
  {
   "cell_type": "code",
   "execution_count": 37,
   "id": "ef2a44f2",
   "metadata": {},
   "outputs": [],
   "source": [
    "# Craft the URL params\n",
    "payload = {'api_key': api_key, 'fuel_type': (',').join(LPG_CA), \"country\":country, \"state\":state}"
   ]
  },
  {
   "cell_type": "code",
   "execution_count": 38,
   "id": "d77acc57",
   "metadata": {},
   "outputs": [],
   "source": [
    "# Requesting the above data from the API\n",
    "r = requests.get(url, params=payload)\n",
    "LPG_CA = r.json()\n",
    "#LPG_CA"
   ]
  },
  {
   "cell_type": "code",
   "execution_count": 39,
   "id": "f129a8ad",
   "metadata": {},
   "outputs": [
    {
     "data": {
      "text/plain": [
       "str"
      ]
     },
     "execution_count": 39,
     "metadata": {},
     "output_type": "execute_result"
    }
   ],
   "source": [
    "# Serializing Json\n",
    "LPG_CA_obj = json.dumps(LPG_CA, indent=4)\n",
    "type(LPG_CA_obj)"
   ]
  },
  {
   "cell_type": "code",
   "execution_count": 40,
   "id": "7825250c",
   "metadata": {},
   "outputs": [],
   "source": [
    "# Writing to \"LPG_CA.json\"\n",
    "with open(\"../output_data/data_analysis/json/LPG_CA.json\", \"w\") as outfile:\n",
    "    outfile.write(LPG_CA_obj)"
   ]
  },
  {
   "cell_type": "markdown",
   "id": "b6e4c777",
   "metadata": {},
   "source": [
    "### Creating a Dataframe of Liquid Propane Gas Fueling Stations in California"
   ]
  },
  {
   "cell_type": "code",
   "execution_count": 41,
   "id": "bdfe5cf0",
   "metadata": {},
   "outputs": [],
   "source": [
    "# Extracting the features data\n",
    "# Each feature seems to represent a station on a map\n",
    "features_LPG_CA = LPG_CA['features']\n",
    "#features_LPG_CA"
   ]
  },
  {
   "cell_type": "code",
   "execution_count": 42,
   "id": "dc626a3d",
   "metadata": {},
   "outputs": [
    {
     "data": {
      "text/html": [
       "<div>\n",
       "<style scoped>\n",
       "    .dataframe tbody tr th:only-of-type {\n",
       "        vertical-align: middle;\n",
       "    }\n",
       "\n",
       "    .dataframe tbody tr th {\n",
       "        vertical-align: top;\n",
       "    }\n",
       "\n",
       "    .dataframe thead th {\n",
       "        text-align: right;\n",
       "    }\n",
       "</style>\n",
       "<table border=\"1\" class=\"dataframe\">\n",
       "  <thead>\n",
       "    <tr style=\"text-align: right;\">\n",
       "      <th></th>\n",
       "      <th>type</th>\n",
       "      <th>geometry</th>\n",
       "      <th>properties</th>\n",
       "    </tr>\n",
       "  </thead>\n",
       "  <tbody>\n",
       "    <tr>\n",
       "      <th>0</th>\n",
       "      <td>Feature</td>\n",
       "      <td>{'type': 'Point', 'coordinates': [-117.7076, 3...</td>\n",
       "      <td>{'access_code': 'public', 'access_days_time': ...</td>\n",
       "    </tr>\n",
       "    <tr>\n",
       "      <th>1</th>\n",
       "      <td>Feature</td>\n",
       "      <td>{'type': 'Point', 'coordinates': [-118.001197,...</td>\n",
       "      <td>{'access_code': 'public', 'access_days_time': ...</td>\n",
       "    </tr>\n",
       "    <tr>\n",
       "      <th>2</th>\n",
       "      <td>Feature</td>\n",
       "      <td>{'type': 'Point', 'coordinates': [-119.2785736...</td>\n",
       "      <td>{'access_code': 'public', 'access_days_time': ...</td>\n",
       "    </tr>\n",
       "    <tr>\n",
       "      <th>3</th>\n",
       "      <td>Feature</td>\n",
       "      <td>{'type': 'Point', 'coordinates': [-121.131276,...</td>\n",
       "      <td>{'access_code': 'public', 'access_days_time': ...</td>\n",
       "    </tr>\n",
       "    <tr>\n",
       "      <th>4</th>\n",
       "      <td>Feature</td>\n",
       "      <td>{'type': 'Point', 'coordinates': [-122.048376,...</td>\n",
       "      <td>{'access_code': 'public', 'access_days_time': ...</td>\n",
       "    </tr>\n",
       "    <tr>\n",
       "      <th>...</th>\n",
       "      <td>...</td>\n",
       "      <td>...</td>\n",
       "      <td>...</td>\n",
       "    </tr>\n",
       "    <tr>\n",
       "      <th>252</th>\n",
       "      <td>Feature</td>\n",
       "      <td>{'type': 'Point', 'coordinates': [-118.535701,...</td>\n",
       "      <td>{'access_code': 'public', 'access_days_time': ...</td>\n",
       "    </tr>\n",
       "    <tr>\n",
       "      <th>253</th>\n",
       "      <td>Feature</td>\n",
       "      <td>{'type': 'Point', 'coordinates': [-117.21772, ...</td>\n",
       "      <td>{'access_code': 'public', 'access_days_time': ...</td>\n",
       "    </tr>\n",
       "    <tr>\n",
       "      <th>254</th>\n",
       "      <td>Feature</td>\n",
       "      <td>{'type': 'Point', 'coordinates': [-118.74337, ...</td>\n",
       "      <td>{'access_code': 'public', 'access_days_time': ...</td>\n",
       "    </tr>\n",
       "    <tr>\n",
       "      <th>255</th>\n",
       "      <td>Feature</td>\n",
       "      <td>{'type': 'Point', 'coordinates': [-118.28712, ...</td>\n",
       "      <td>{'access_code': 'public', 'access_days_time': ...</td>\n",
       "    </tr>\n",
       "    <tr>\n",
       "      <th>256</th>\n",
       "      <td>Feature</td>\n",
       "      <td>{'type': 'Point', 'coordinates': [-122.32367, ...</td>\n",
       "      <td>{'access_code': 'public', 'access_days_time': ...</td>\n",
       "    </tr>\n",
       "  </tbody>\n",
       "</table>\n",
       "<p>257 rows × 3 columns</p>\n",
       "</div>"
      ],
      "text/plain": [
       "        type                                           geometry  \\\n",
       "0    Feature  {'type': 'Point', 'coordinates': [-117.7076, 3...   \n",
       "1    Feature  {'type': 'Point', 'coordinates': [-118.001197,...   \n",
       "2    Feature  {'type': 'Point', 'coordinates': [-119.2785736...   \n",
       "3    Feature  {'type': 'Point', 'coordinates': [-121.131276,...   \n",
       "4    Feature  {'type': 'Point', 'coordinates': [-122.048376,...   \n",
       "..       ...                                                ...   \n",
       "252  Feature  {'type': 'Point', 'coordinates': [-118.535701,...   \n",
       "253  Feature  {'type': 'Point', 'coordinates': [-117.21772, ...   \n",
       "254  Feature  {'type': 'Point', 'coordinates': [-118.74337, ...   \n",
       "255  Feature  {'type': 'Point', 'coordinates': [-118.28712, ...   \n",
       "256  Feature  {'type': 'Point', 'coordinates': [-122.32367, ...   \n",
       "\n",
       "                                            properties  \n",
       "0    {'access_code': 'public', 'access_days_time': ...  \n",
       "1    {'access_code': 'public', 'access_days_time': ...  \n",
       "2    {'access_code': 'public', 'access_days_time': ...  \n",
       "3    {'access_code': 'public', 'access_days_time': ...  \n",
       "4    {'access_code': 'public', 'access_days_time': ...  \n",
       "..                                                 ...  \n",
       "252  {'access_code': 'public', 'access_days_time': ...  \n",
       "253  {'access_code': 'public', 'access_days_time': ...  \n",
       "254  {'access_code': 'public', 'access_days_time': ...  \n",
       "255  {'access_code': 'public', 'access_days_time': ...  \n",
       "256  {'access_code': 'public', 'access_days_time': ...  \n",
       "\n",
       "[257 rows x 3 columns]"
      ]
     },
     "execution_count": 42,
     "metadata": {},
     "output_type": "execute_result"
    }
   ],
   "source": [
    "# Creating a dataframe for analysis by creating a dictionary of data first\n",
    "# This is the raw form, not very usable\n",
    "features_LPG_CA_df = pd.DataFrame.from_dict(features_LPG_CA)\n",
    "features_LPG_CA_df"
   ]
  },
  {
   "cell_type": "markdown",
   "id": "5ddaeb23",
   "metadata": {},
   "source": [
    "### Exporting Cleaned Dataframe to CSV"
   ]
  },
  {
   "cell_type": "code",
   "execution_count": 43,
   "id": "0048a226",
   "metadata": {},
   "outputs": [],
   "source": [
    "import csv\n",
    "\n",
    "# Identifying the data points you need from the data\n",
    "list_to_df = list() # We want to convert this list into a dataframe\n",
    "data_pt = dict() # This is each individual feature/record\n",
    "\n",
    "with open('../output_data/data_analysis/csv/LPG_CA.csv', 'w', newline='') as csvfile:\n",
    "    csvwriter = csv.writer(csvfile, delimiter=',')\n",
    "    \n",
    "    # Insert column headers\n",
    "    csvwriter.writerow(['id', 'state', 'coordinates','fuel type'])\n",
    "\n",
    "    for i, v in features_LPG_CA_df.iterrows():\n",
    "\n",
    "        data_pt['id'] = v['properties']['id']\n",
    "        data_pt['state'] = v['properties']['state']\n",
    "        data_pt['coordinates'] = v['geometry']['coordinates']\n",
    "        data_pt['fuel_type_code'] = v['properties']['fuel_type_code']\n",
    "\n",
    "        #print([data_pt['id'], data_pt['state'], data_pt['coordinates'],data_pt['fuel_type_code']])\n",
    "        csvwriter.writerow([data_pt['id'], data_pt['state'], data_pt['coordinates'],data_pt['fuel_type_code']])"
   ]
  },
  {
   "cell_type": "markdown",
   "id": "9f0b7ed4",
   "metadata": {},
   "source": [
    "# Texas Alternate Fuel Stations Data"
   ]
  },
  {
   "cell_type": "markdown",
   "id": "5d711994",
   "metadata": {},
   "source": [
    "## How many total of all of the top 3 most common alternative fuel stations are there in Texas?"
   ]
  },
  {
   "cell_type": "code",
   "execution_count": 44,
   "id": "5f8ca07a",
   "metadata": {},
   "outputs": [],
   "source": [
    "# Gathering information for all of the top 3 most common alternative fuel stations in Texas\n",
    "api_key = os.environ[\"AFDC_API\"]\n",
    "url = \"https://developer.nrel.gov/api/alt-fuel-stations/v1.geojson\"\n",
    "top3_alt_fuels_TX = [\"E85\",\"ELEC\",\"LPG\"]\n",
    "country=\"US\"\n",
    "state=\"TX\""
   ]
  },
  {
   "cell_type": "code",
   "execution_count": 45,
   "id": "4f6aef0a",
   "metadata": {},
   "outputs": [],
   "source": [
    "# Craft the URL params\n",
    "payload = {'api_key': api_key, 'fuel_type': (',').join(top3_alt_fuels_TX), \"country\":country, \"state\":state}"
   ]
  },
  {
   "cell_type": "code",
   "execution_count": 46,
   "id": "3ac58efb",
   "metadata": {},
   "outputs": [],
   "source": [
    "# Requesting the above data from the API\n",
    "r = requests.get(url, params=payload)\n",
    "top3_alt_fuels_TX = r.json()\n",
    "#top3_alt_fuels_TX"
   ]
  },
  {
   "cell_type": "code",
   "execution_count": 47,
   "id": "75596564",
   "metadata": {},
   "outputs": [
    {
     "data": {
      "text/plain": [
       "str"
      ]
     },
     "execution_count": 47,
     "metadata": {},
     "output_type": "execute_result"
    }
   ],
   "source": [
    "# Serializing Json\n",
    "top3_alt_fuels_TX_obj = json.dumps(top3_alt_fuels_TX, indent=4)\n",
    "type(top3_alt_fuels_TX_obj)"
   ]
  },
  {
   "cell_type": "code",
   "execution_count": 48,
   "id": "deb215c3",
   "metadata": {},
   "outputs": [],
   "source": [
    "# Writing to \"top3_alt_fuels_TX.json\"\n",
    "with open(\"../output_data/data_analysis/json/top3_alt_fuels_TX.json\", \"w\") as outfile:\n",
    "    outfile.write(top3_alt_fuels_TX_obj)"
   ]
  },
  {
   "cell_type": "markdown",
   "id": "a2975764",
   "metadata": {},
   "source": [
    "### Creating a Dataframe of Top 3 Alternative Fuels in Texas"
   ]
  },
  {
   "cell_type": "code",
   "execution_count": 49,
   "id": "9dc9c9c4",
   "metadata": {},
   "outputs": [],
   "source": [
    "# Extracting the features data\n",
    "# Each feature seems to represent a station on a map\n",
    "features_top3_alt_fuels_TX = top3_alt_fuels_TX['features']\n",
    "#features_top3_alt_fuels_TX"
   ]
  },
  {
   "cell_type": "code",
   "execution_count": 50,
   "id": "f27cc8d2",
   "metadata": {},
   "outputs": [
    {
     "data": {
      "text/html": [
       "<div>\n",
       "<style scoped>\n",
       "    .dataframe tbody tr th:only-of-type {\n",
       "        vertical-align: middle;\n",
       "    }\n",
       "\n",
       "    .dataframe tbody tr th {\n",
       "        vertical-align: top;\n",
       "    }\n",
       "\n",
       "    .dataframe thead th {\n",
       "        text-align: right;\n",
       "    }\n",
       "</style>\n",
       "<table border=\"1\" class=\"dataframe\">\n",
       "  <thead>\n",
       "    <tr style=\"text-align: right;\">\n",
       "      <th></th>\n",
       "      <th>type</th>\n",
       "      <th>geometry</th>\n",
       "      <th>properties</th>\n",
       "    </tr>\n",
       "  </thead>\n",
       "  <tbody>\n",
       "    <tr>\n",
       "      <th>0</th>\n",
       "      <td>Feature</td>\n",
       "      <td>{'type': 'Point', 'coordinates': [-101.885391,...</td>\n",
       "      <td>{'access_code': 'public', 'access_days_time': ...</td>\n",
       "    </tr>\n",
       "    <tr>\n",
       "      <th>1</th>\n",
       "      <td>Feature</td>\n",
       "      <td>{'type': 'Point', 'coordinates': [-96.73629, 3...</td>\n",
       "      <td>{'access_code': 'public', 'access_days_time': ...</td>\n",
       "    </tr>\n",
       "    <tr>\n",
       "      <th>2</th>\n",
       "      <td>Feature</td>\n",
       "      <td>{'type': 'Point', 'coordinates': [-95.54979990...</td>\n",
       "      <td>{'access_code': 'public', 'access_days_time': ...</td>\n",
       "    </tr>\n",
       "    <tr>\n",
       "      <th>3</th>\n",
       "      <td>Feature</td>\n",
       "      <td>{'type': 'Point', 'coordinates': [-94.226198, ...</td>\n",
       "      <td>{'access_code': 'public', 'access_days_time': ...</td>\n",
       "    </tr>\n",
       "    <tr>\n",
       "      <th>4</th>\n",
       "      <td>Feature</td>\n",
       "      <td>{'type': 'Point', 'coordinates': [-95.345249, ...</td>\n",
       "      <td>{'access_code': 'public', 'access_days_time': ...</td>\n",
       "    </tr>\n",
       "    <tr>\n",
       "      <th>...</th>\n",
       "      <td>...</td>\n",
       "      <td>...</td>\n",
       "      <td>...</td>\n",
       "    </tr>\n",
       "    <tr>\n",
       "      <th>3651</th>\n",
       "      <td>Feature</td>\n",
       "      <td>{'type': 'Point', 'coordinates': [-95.98519, 3...</td>\n",
       "      <td>{'access_code': 'public', 'access_days_time': ...</td>\n",
       "    </tr>\n",
       "    <tr>\n",
       "      <th>3652</th>\n",
       "      <td>Feature</td>\n",
       "      <td>{'type': 'Point', 'coordinates': [-95.98519, 3...</td>\n",
       "      <td>{'access_code': 'public', 'access_days_time': ...</td>\n",
       "    </tr>\n",
       "    <tr>\n",
       "      <th>3653</th>\n",
       "      <td>Feature</td>\n",
       "      <td>{'type': 'Point', 'coordinates': [-95.98519, 3...</td>\n",
       "      <td>{'access_code': 'public', 'access_days_time': ...</td>\n",
       "    </tr>\n",
       "    <tr>\n",
       "      <th>3654</th>\n",
       "      <td>Feature</td>\n",
       "      <td>{'type': 'Point', 'coordinates': [-95.985225, ...</td>\n",
       "      <td>{'access_code': 'public', 'access_days_time': ...</td>\n",
       "    </tr>\n",
       "    <tr>\n",
       "      <th>3655</th>\n",
       "      <td>Feature</td>\n",
       "      <td>{'type': 'Point', 'coordinates': [-95.985225, ...</td>\n",
       "      <td>{'access_code': 'public', 'access_days_time': ...</td>\n",
       "    </tr>\n",
       "  </tbody>\n",
       "</table>\n",
       "<p>3656 rows × 3 columns</p>\n",
       "</div>"
      ],
      "text/plain": [
       "         type                                           geometry  \\\n",
       "0     Feature  {'type': 'Point', 'coordinates': [-101.885391,...   \n",
       "1     Feature  {'type': 'Point', 'coordinates': [-96.73629, 3...   \n",
       "2     Feature  {'type': 'Point', 'coordinates': [-95.54979990...   \n",
       "3     Feature  {'type': 'Point', 'coordinates': [-94.226198, ...   \n",
       "4     Feature  {'type': 'Point', 'coordinates': [-95.345249, ...   \n",
       "...       ...                                                ...   \n",
       "3651  Feature  {'type': 'Point', 'coordinates': [-95.98519, 3...   \n",
       "3652  Feature  {'type': 'Point', 'coordinates': [-95.98519, 3...   \n",
       "3653  Feature  {'type': 'Point', 'coordinates': [-95.98519, 3...   \n",
       "3654  Feature  {'type': 'Point', 'coordinates': [-95.985225, ...   \n",
       "3655  Feature  {'type': 'Point', 'coordinates': [-95.985225, ...   \n",
       "\n",
       "                                             properties  \n",
       "0     {'access_code': 'public', 'access_days_time': ...  \n",
       "1     {'access_code': 'public', 'access_days_time': ...  \n",
       "2     {'access_code': 'public', 'access_days_time': ...  \n",
       "3     {'access_code': 'public', 'access_days_time': ...  \n",
       "4     {'access_code': 'public', 'access_days_time': ...  \n",
       "...                                                 ...  \n",
       "3651  {'access_code': 'public', 'access_days_time': ...  \n",
       "3652  {'access_code': 'public', 'access_days_time': ...  \n",
       "3653  {'access_code': 'public', 'access_days_time': ...  \n",
       "3654  {'access_code': 'public', 'access_days_time': ...  \n",
       "3655  {'access_code': 'public', 'access_days_time': ...  \n",
       "\n",
       "[3656 rows x 3 columns]"
      ]
     },
     "execution_count": 50,
     "metadata": {},
     "output_type": "execute_result"
    }
   ],
   "source": [
    "# Creating a dataframe for analysis by creating a dictionary of data first\n",
    "# This is the raw form, not very usable\n",
    "features_top3_alt_fuels_TX_df = pd.DataFrame.from_dict(features_top3_alt_fuels_TX)\n",
    "features_top3_alt_fuels_TX_df"
   ]
  },
  {
   "cell_type": "markdown",
   "id": "ae8621ba",
   "metadata": {},
   "source": [
    "### Exporting Cleaned Dataframe to CSV"
   ]
  },
  {
   "cell_type": "code",
   "execution_count": 51,
   "id": "99c2183d",
   "metadata": {},
   "outputs": [],
   "source": [
    "import csv\n",
    "\n",
    "# Identifying the data points you need from the data\n",
    "list_to_df = list() # We want to convert this list into a dataframe\n",
    "data_pt = dict() # This is each individual feature/record\n",
    "\n",
    "with open('../output_data/data_analysis/csv/top3_alt_fuels_TX.csv', 'w', newline='') as csvfile:\n",
    "    csvwriter = csv.writer(csvfile, delimiter=',')\n",
    "    \n",
    "    # Insert column headers\n",
    "    csvwriter.writerow(['id', 'state', 'coordinates','fuel type'])\n",
    "\n",
    "    for i, v in features_top3_alt_fuels_TX_df.iterrows():\n",
    "\n",
    "        data_pt['id'] = v['properties']['id']\n",
    "        data_pt['state'] = v['properties']['state']\n",
    "        data_pt['coordinates'] = v['geometry']['coordinates']\n",
    "        data_pt['fuel_type_code'] = v['properties']['fuel_type_code']\n",
    "\n",
    "        #print([data_pt['id'], data_pt['state'], data_pt['coordinates'],data_pt['fuel_type_code']])\n",
    "        csvwriter.writerow([data_pt['id'], data_pt['state'], data_pt['coordinates'],data_pt['fuel_type_code']])"
   ]
  },
  {
   "cell_type": "markdown",
   "id": "32d64688",
   "metadata": {},
   "source": [
    "## How many ethanol fueling stations are there in Texas?"
   ]
  },
  {
   "cell_type": "code",
   "execution_count": 52,
   "id": "98627592",
   "metadata": {},
   "outputs": [],
   "source": [
    "# Gathering information for all of the ethanol fuel stations in Texas\n",
    "api_key = os.environ[\"AFDC_API\"]\n",
    "url = \"https://developer.nrel.gov/api/alt-fuel-stations/v1.geojson\"\n",
    "E85_TX = [\"E85\"]\n",
    "country=\"US\"\n",
    "state=\"TX\""
   ]
  },
  {
   "cell_type": "code",
   "execution_count": 53,
   "id": "dbf1dc8e",
   "metadata": {},
   "outputs": [],
   "source": [
    "# Craft the URL params\n",
    "payload = {'api_key': api_key, 'fuel_type': (',').join(E85_TX), \"country\":country, \"state\":state}"
   ]
  },
  {
   "cell_type": "code",
   "execution_count": 54,
   "id": "3e1bc488",
   "metadata": {},
   "outputs": [],
   "source": [
    "# Requesting the above data from the API\n",
    "r = requests.get(url, params=payload)\n",
    "E85_TX = r.json()\n",
    "#E85_TX"
   ]
  },
  {
   "cell_type": "code",
   "execution_count": 55,
   "id": "b61d8666",
   "metadata": {},
   "outputs": [
    {
     "data": {
      "text/plain": [
       "str"
      ]
     },
     "execution_count": 55,
     "metadata": {},
     "output_type": "execute_result"
    }
   ],
   "source": [
    "# Serializing Json\n",
    "E85_TX_obj = json.dumps(E85_TX, indent=4)\n",
    "type(E85_TX_obj)"
   ]
  },
  {
   "cell_type": "code",
   "execution_count": 56,
   "id": "cbcce8b2",
   "metadata": {},
   "outputs": [],
   "source": [
    "# Writing to \"E85_TX.json\"\n",
    "with open(\"../output_data/data_analysis/json/E85_TX.json\", \"w\") as outfile:\n",
    "    outfile.write(E85_TX_obj)"
   ]
  },
  {
   "cell_type": "markdown",
   "id": "9befd883",
   "metadata": {},
   "source": [
    "### Creating a Dataframe of Ethanol Fueling Stations in Texas"
   ]
  },
  {
   "cell_type": "code",
   "execution_count": 57,
   "id": "81e4bf58",
   "metadata": {},
   "outputs": [],
   "source": [
    "# Extracting the features data\n",
    "# Each feature seems to represent a station on a map\n",
    "features_E85_TX = E85_TX['features']\n",
    "#features_E85_TX"
   ]
  },
  {
   "cell_type": "code",
   "execution_count": 58,
   "id": "1bc0b115",
   "metadata": {},
   "outputs": [
    {
     "data": {
      "text/html": [
       "<div>\n",
       "<style scoped>\n",
       "    .dataframe tbody tr th:only-of-type {\n",
       "        vertical-align: middle;\n",
       "    }\n",
       "\n",
       "    .dataframe tbody tr th {\n",
       "        vertical-align: top;\n",
       "    }\n",
       "\n",
       "    .dataframe thead th {\n",
       "        text-align: right;\n",
       "    }\n",
       "</style>\n",
       "<table border=\"1\" class=\"dataframe\">\n",
       "  <thead>\n",
       "    <tr style=\"text-align: right;\">\n",
       "      <th></th>\n",
       "      <th>type</th>\n",
       "      <th>geometry</th>\n",
       "      <th>properties</th>\n",
       "    </tr>\n",
       "  </thead>\n",
       "  <tbody>\n",
       "    <tr>\n",
       "      <th>0</th>\n",
       "      <td>Feature</td>\n",
       "      <td>{'type': 'Point', 'coordinates': [-97.671997, ...</td>\n",
       "      <td>{'access_code': 'public', 'access_days_time': ...</td>\n",
       "    </tr>\n",
       "    <tr>\n",
       "      <th>1</th>\n",
       "      <td>Feature</td>\n",
       "      <td>{'type': 'Point', 'coordinates': [-97.8206, 30...</td>\n",
       "      <td>{'access_code': 'public', 'access_days_time': ...</td>\n",
       "    </tr>\n",
       "    <tr>\n",
       "      <th>2</th>\n",
       "      <td>Feature</td>\n",
       "      <td>{'type': 'Point', 'coordinates': [-95.631595, ...</td>\n",
       "      <td>{'access_code': 'public', 'access_days_time': ...</td>\n",
       "    </tr>\n",
       "    <tr>\n",
       "      <th>3</th>\n",
       "      <td>Feature</td>\n",
       "      <td>{'type': 'Point', 'coordinates': [-96.960994, ...</td>\n",
       "      <td>{'access_code': 'public', 'access_days_time': ...</td>\n",
       "    </tr>\n",
       "    <tr>\n",
       "      <th>4</th>\n",
       "      <td>Feature</td>\n",
       "      <td>{'type': 'Point', 'coordinates': [-97.736095, ...</td>\n",
       "      <td>{'access_code': 'public', 'access_days_time': ...</td>\n",
       "    </tr>\n",
       "    <tr>\n",
       "      <th>...</th>\n",
       "      <td>...</td>\n",
       "      <td>...</td>\n",
       "      <td>...</td>\n",
       "    </tr>\n",
       "    <tr>\n",
       "      <th>259</th>\n",
       "      <td>Feature</td>\n",
       "      <td>{'type': 'Point', 'coordinates': [-97.10904, 3...</td>\n",
       "      <td>{'access_code': 'public', 'access_days_time': ...</td>\n",
       "    </tr>\n",
       "    <tr>\n",
       "      <th>260</th>\n",
       "      <td>Feature</td>\n",
       "      <td>{'type': 'Point', 'coordinates': [-96.30052160...</td>\n",
       "      <td>{'access_code': 'public', 'access_days_time': ...</td>\n",
       "    </tr>\n",
       "    <tr>\n",
       "      <th>261</th>\n",
       "      <td>Feature</td>\n",
       "      <td>{'type': 'Point', 'coordinates': [-94.97697, 2...</td>\n",
       "      <td>{'access_code': 'public', 'access_days_time': ...</td>\n",
       "    </tr>\n",
       "    <tr>\n",
       "      <th>262</th>\n",
       "      <td>Feature</td>\n",
       "      <td>{'type': 'Point', 'coordinates': [-94.08458, 3...</td>\n",
       "      <td>{'access_code': 'public', 'access_days_time': ...</td>\n",
       "    </tr>\n",
       "    <tr>\n",
       "      <th>263</th>\n",
       "      <td>Feature</td>\n",
       "      <td>{'type': 'Point', 'coordinates': [-95.76482, 2...</td>\n",
       "      <td>{'access_code': 'public', 'access_days_time': ...</td>\n",
       "    </tr>\n",
       "  </tbody>\n",
       "</table>\n",
       "<p>264 rows × 3 columns</p>\n",
       "</div>"
      ],
      "text/plain": [
       "        type                                           geometry  \\\n",
       "0    Feature  {'type': 'Point', 'coordinates': [-97.671997, ...   \n",
       "1    Feature  {'type': 'Point', 'coordinates': [-97.8206, 30...   \n",
       "2    Feature  {'type': 'Point', 'coordinates': [-95.631595, ...   \n",
       "3    Feature  {'type': 'Point', 'coordinates': [-96.960994, ...   \n",
       "4    Feature  {'type': 'Point', 'coordinates': [-97.736095, ...   \n",
       "..       ...                                                ...   \n",
       "259  Feature  {'type': 'Point', 'coordinates': [-97.10904, 3...   \n",
       "260  Feature  {'type': 'Point', 'coordinates': [-96.30052160...   \n",
       "261  Feature  {'type': 'Point', 'coordinates': [-94.97697, 2...   \n",
       "262  Feature  {'type': 'Point', 'coordinates': [-94.08458, 3...   \n",
       "263  Feature  {'type': 'Point', 'coordinates': [-95.76482, 2...   \n",
       "\n",
       "                                            properties  \n",
       "0    {'access_code': 'public', 'access_days_time': ...  \n",
       "1    {'access_code': 'public', 'access_days_time': ...  \n",
       "2    {'access_code': 'public', 'access_days_time': ...  \n",
       "3    {'access_code': 'public', 'access_days_time': ...  \n",
       "4    {'access_code': 'public', 'access_days_time': ...  \n",
       "..                                                 ...  \n",
       "259  {'access_code': 'public', 'access_days_time': ...  \n",
       "260  {'access_code': 'public', 'access_days_time': ...  \n",
       "261  {'access_code': 'public', 'access_days_time': ...  \n",
       "262  {'access_code': 'public', 'access_days_time': ...  \n",
       "263  {'access_code': 'public', 'access_days_time': ...  \n",
       "\n",
       "[264 rows x 3 columns]"
      ]
     },
     "execution_count": 58,
     "metadata": {},
     "output_type": "execute_result"
    }
   ],
   "source": [
    "# Creating a dataframe for analysis by creating a dictionary of data first\n",
    "# This is the raw form, not very usable\n",
    "features_E85_TX_df = pd.DataFrame.from_dict(features_E85_TX)\n",
    "features_E85_TX_df"
   ]
  },
  {
   "cell_type": "markdown",
   "id": "9bf7c5af",
   "metadata": {},
   "source": [
    "### Exporting Cleaned Dataframe to CSV"
   ]
  },
  {
   "cell_type": "code",
   "execution_count": 59,
   "id": "77447a88",
   "metadata": {},
   "outputs": [],
   "source": [
    "import csv\n",
    "\n",
    "# Identifying the data points you need from the data\n",
    "list_to_df = list() # We want to convert this list into a dataframe\n",
    "data_pt = dict() # This is each individual feature/record\n",
    "\n",
    "with open('../output_data/data_analysis/csv/E85_TX.csv', 'w', newline='') as csvfile:\n",
    "    csvwriter = csv.writer(csvfile, delimiter=',')\n",
    "    \n",
    "    # Insert column headers\n",
    "    csvwriter.writerow(['id', 'state', 'coordinates','fuel type'])\n",
    "\n",
    "    for i, v in features_E85_TX_df.iterrows():\n",
    "\n",
    "        data_pt['id'] = v['properties']['id']\n",
    "        data_pt['state'] = v['properties']['state']\n",
    "        data_pt['coordinates'] = v['geometry']['coordinates']\n",
    "        data_pt['fuel_type_code'] = v['properties']['fuel_type_code']\n",
    "\n",
    "        #print([data_pt['id'], data_pt['state'], data_pt['coordinates'],data_pt['fuel_type_code']])\n",
    "        csvwriter.writerow([data_pt['id'], data_pt['state'], data_pt['coordinates'],data_pt['fuel_type_code']])"
   ]
  },
  {
   "cell_type": "markdown",
   "id": "096493a6",
   "metadata": {},
   "source": [
    "## How many electric charging stations are there in Texas?"
   ]
  },
  {
   "cell_type": "code",
   "execution_count": 60,
   "id": "fdb9e364",
   "metadata": {},
   "outputs": [],
   "source": [
    "# Gathering information for all of the electric charging stations in Texas\n",
    "api_key = os.environ[\"AFDC_API\"]\n",
    "url = \"https://developer.nrel.gov/api/alt-fuel-stations/v1.geojson\"\n",
    "ELEC_TX = [\"ELEC\"]\n",
    "country=\"US\"\n",
    "state=\"TX\""
   ]
  },
  {
   "cell_type": "code",
   "execution_count": 61,
   "id": "de0748a0",
   "metadata": {},
   "outputs": [],
   "source": [
    "# Craft the URL params\n",
    "payload = {'api_key': api_key, 'fuel_type': (',').join(ELEC_TX), \"country\":country, \"state\":state}"
   ]
  },
  {
   "cell_type": "code",
   "execution_count": 62,
   "id": "cf7b7578",
   "metadata": {},
   "outputs": [],
   "source": [
    "# Requesting the above data from the API\n",
    "r = requests.get(url, params=payload)\n",
    "ELEC_TX = r.json()\n",
    "#ELEC_TX"
   ]
  },
  {
   "cell_type": "code",
   "execution_count": 63,
   "id": "f698450f",
   "metadata": {},
   "outputs": [
    {
     "data": {
      "text/plain": [
       "str"
      ]
     },
     "execution_count": 63,
     "metadata": {},
     "output_type": "execute_result"
    }
   ],
   "source": [
    "# Serializing Json\n",
    "ELEC_TX_obj = json.dumps(ELEC_TX, indent=4)\n",
    "type(ELEC_TX_obj)"
   ]
  },
  {
   "cell_type": "code",
   "execution_count": 64,
   "id": "23d78ebc",
   "metadata": {},
   "outputs": [],
   "source": [
    "# Writing to \"ELEC_TX.json\"\n",
    "with open(\"../output_data/data_analysis/json/ELEC_TX.json\", \"w\") as outfile:\n",
    "    outfile.write(ELEC_TX_obj)"
   ]
  },
  {
   "cell_type": "markdown",
   "id": "be5ccf99",
   "metadata": {},
   "source": [
    "### Creating a Dataframe of Electric Car Charging Stations in Texas"
   ]
  },
  {
   "cell_type": "code",
   "execution_count": 65,
   "id": "4a17ab24",
   "metadata": {},
   "outputs": [],
   "source": [
    "# Extracting the features data\n",
    "# Each feature seems to represent a station on a map\n",
    "features_ELEC_TX = ELEC_TX['features']\n",
    "#features_ELEC_TX"
   ]
  },
  {
   "cell_type": "code",
   "execution_count": 66,
   "id": "f86217eb",
   "metadata": {},
   "outputs": [
    {
     "data": {
      "text/html": [
       "<div>\n",
       "<style scoped>\n",
       "    .dataframe tbody tr th:only-of-type {\n",
       "        vertical-align: middle;\n",
       "    }\n",
       "\n",
       "    .dataframe tbody tr th {\n",
       "        vertical-align: top;\n",
       "    }\n",
       "\n",
       "    .dataframe thead th {\n",
       "        text-align: right;\n",
       "    }\n",
       "</style>\n",
       "<table border=\"1\" class=\"dataframe\">\n",
       "  <thead>\n",
       "    <tr style=\"text-align: right;\">\n",
       "      <th></th>\n",
       "      <th>type</th>\n",
       "      <th>geometry</th>\n",
       "      <th>properties</th>\n",
       "    </tr>\n",
       "  </thead>\n",
       "  <tbody>\n",
       "    <tr>\n",
       "      <th>0</th>\n",
       "      <td>Feature</td>\n",
       "      <td>{'type': 'Point', 'coordinates': [-95.372854, ...</td>\n",
       "      <td>{'access_code': 'public', 'access_days_time': ...</td>\n",
       "    </tr>\n",
       "    <tr>\n",
       "      <th>1</th>\n",
       "      <td>Feature</td>\n",
       "      <td>{'type': 'Point', 'coordinates': [-97.759109, ...</td>\n",
       "      <td>{'access_code': 'public', 'access_days_time': ...</td>\n",
       "    </tr>\n",
       "    <tr>\n",
       "      <th>2</th>\n",
       "      <td>Feature</td>\n",
       "      <td>{'type': 'Point', 'coordinates': [-99.771463, ...</td>\n",
       "      <td>{'access_code': 'public', 'access_days_time': ...</td>\n",
       "    </tr>\n",
       "    <tr>\n",
       "      <th>3</th>\n",
       "      <td>Feature</td>\n",
       "      <td>{'type': 'Point', 'coordinates': [-101.938937,...</td>\n",
       "      <td>{'access_code': 'public', 'access_days_time': ...</td>\n",
       "    </tr>\n",
       "    <tr>\n",
       "      <th>4</th>\n",
       "      <td>Feature</td>\n",
       "      <td>{'type': 'Point', 'coordinates': [-97.087169, ...</td>\n",
       "      <td>{'access_code': 'public', 'access_days_time': ...</td>\n",
       "    </tr>\n",
       "    <tr>\n",
       "      <th>...</th>\n",
       "      <td>...</td>\n",
       "      <td>...</td>\n",
       "      <td>...</td>\n",
       "    </tr>\n",
       "    <tr>\n",
       "      <th>3029</th>\n",
       "      <td>Feature</td>\n",
       "      <td>{'type': 'Point', 'coordinates': [-95.98519, 3...</td>\n",
       "      <td>{'access_code': 'public', 'access_days_time': ...</td>\n",
       "    </tr>\n",
       "    <tr>\n",
       "      <th>3030</th>\n",
       "      <td>Feature</td>\n",
       "      <td>{'type': 'Point', 'coordinates': [-95.98519, 3...</td>\n",
       "      <td>{'access_code': 'public', 'access_days_time': ...</td>\n",
       "    </tr>\n",
       "    <tr>\n",
       "      <th>3031</th>\n",
       "      <td>Feature</td>\n",
       "      <td>{'type': 'Point', 'coordinates': [-95.98519, 3...</td>\n",
       "      <td>{'access_code': 'public', 'access_days_time': ...</td>\n",
       "    </tr>\n",
       "    <tr>\n",
       "      <th>3032</th>\n",
       "      <td>Feature</td>\n",
       "      <td>{'type': 'Point', 'coordinates': [-95.985225, ...</td>\n",
       "      <td>{'access_code': 'public', 'access_days_time': ...</td>\n",
       "    </tr>\n",
       "    <tr>\n",
       "      <th>3033</th>\n",
       "      <td>Feature</td>\n",
       "      <td>{'type': 'Point', 'coordinates': [-95.985225, ...</td>\n",
       "      <td>{'access_code': 'public', 'access_days_time': ...</td>\n",
       "    </tr>\n",
       "  </tbody>\n",
       "</table>\n",
       "<p>3034 rows × 3 columns</p>\n",
       "</div>"
      ],
      "text/plain": [
       "         type                                           geometry  \\\n",
       "0     Feature  {'type': 'Point', 'coordinates': [-95.372854, ...   \n",
       "1     Feature  {'type': 'Point', 'coordinates': [-97.759109, ...   \n",
       "2     Feature  {'type': 'Point', 'coordinates': [-99.771463, ...   \n",
       "3     Feature  {'type': 'Point', 'coordinates': [-101.938937,...   \n",
       "4     Feature  {'type': 'Point', 'coordinates': [-97.087169, ...   \n",
       "...       ...                                                ...   \n",
       "3029  Feature  {'type': 'Point', 'coordinates': [-95.98519, 3...   \n",
       "3030  Feature  {'type': 'Point', 'coordinates': [-95.98519, 3...   \n",
       "3031  Feature  {'type': 'Point', 'coordinates': [-95.98519, 3...   \n",
       "3032  Feature  {'type': 'Point', 'coordinates': [-95.985225, ...   \n",
       "3033  Feature  {'type': 'Point', 'coordinates': [-95.985225, ...   \n",
       "\n",
       "                                             properties  \n",
       "0     {'access_code': 'public', 'access_days_time': ...  \n",
       "1     {'access_code': 'public', 'access_days_time': ...  \n",
       "2     {'access_code': 'public', 'access_days_time': ...  \n",
       "3     {'access_code': 'public', 'access_days_time': ...  \n",
       "4     {'access_code': 'public', 'access_days_time': ...  \n",
       "...                                                 ...  \n",
       "3029  {'access_code': 'public', 'access_days_time': ...  \n",
       "3030  {'access_code': 'public', 'access_days_time': ...  \n",
       "3031  {'access_code': 'public', 'access_days_time': ...  \n",
       "3032  {'access_code': 'public', 'access_days_time': ...  \n",
       "3033  {'access_code': 'public', 'access_days_time': ...  \n",
       "\n",
       "[3034 rows x 3 columns]"
      ]
     },
     "execution_count": 66,
     "metadata": {},
     "output_type": "execute_result"
    }
   ],
   "source": [
    "# Creating a dataframe for analysis by creating a dictionary of data first\n",
    "# This is the raw form, not very usable\n",
    "features_ELEC_TX_df = pd.DataFrame.from_dict(features_ELEC_TX)\n",
    "features_ELEC_TX_df"
   ]
  },
  {
   "cell_type": "markdown",
   "id": "db8629b3",
   "metadata": {},
   "source": [
    "### Exporting Cleaned Dataframe to CSV"
   ]
  },
  {
   "cell_type": "code",
   "execution_count": 67,
   "id": "04c0ca73",
   "metadata": {},
   "outputs": [],
   "source": [
    "import csv\n",
    "\n",
    "# Identifying the data points you need from the data\n",
    "list_to_df = list() # We want to convert this list into a dataframe\n",
    "data_pt = dict() # This is each individual feature/record\n",
    "\n",
    "with open('../output_data/data_analysis/csv/ELEC_TX.csv', 'w', newline='') as csvfile:\n",
    "    csvwriter = csv.writer(csvfile, delimiter=',')\n",
    "    \n",
    "    # Insert column headers\n",
    "    csvwriter.writerow(['id', 'state', 'coordinates','fuel type'])\n",
    "\n",
    "    for i, v in features_ELEC_TX_df.iterrows():\n",
    "\n",
    "        data_pt['id'] = v['properties']['id']\n",
    "        data_pt['state'] = v['properties']['state']\n",
    "        data_pt['coordinates'] = v['geometry']['coordinates']\n",
    "        data_pt['fuel_type_code'] = v['properties']['fuel_type_code']\n",
    "\n",
    "        #print([data_pt['id'], data_pt['state'], data_pt['coordinates'],data_pt['fuel_type_code']])\n",
    "        csvwriter.writerow([data_pt['id'], data_pt['state'], data_pt['coordinates'],data_pt['fuel_type_code']])"
   ]
  },
  {
   "cell_type": "markdown",
   "id": "8fe45b2d",
   "metadata": {},
   "source": [
    "## How many propane fueling stations are there in Texas?"
   ]
  },
  {
   "cell_type": "code",
   "execution_count": 68,
   "id": "a28c6d4d",
   "metadata": {},
   "outputs": [],
   "source": [
    "# Gathering information for all of the propane fuel stations in Texas\n",
    "api_key = os.environ[\"AFDC_API\"]\n",
    "url = \"https://developer.nrel.gov/api/alt-fuel-stations/v1.geojson\"\n",
    "LPG_TX = [\"LPG\"]\n",
    "country=\"US\"\n",
    "state=\"TX\""
   ]
  },
  {
   "cell_type": "code",
   "execution_count": 69,
   "id": "ace8c8a1",
   "metadata": {},
   "outputs": [],
   "source": [
    "# Craft the URL params\n",
    "payload = {'api_key': api_key, 'fuel_type': (',').join(LPG_TX), \"country\":country, \"state\":state}"
   ]
  },
  {
   "cell_type": "code",
   "execution_count": 70,
   "id": "a928a177",
   "metadata": {},
   "outputs": [],
   "source": [
    "# Requesting the above data from the API\n",
    "r = requests.get(url, params=payload)\n",
    "LPG_TX = r.json()\n",
    "#LPG_TX"
   ]
  },
  {
   "cell_type": "code",
   "execution_count": 71,
   "id": "48ec8bc5",
   "metadata": {},
   "outputs": [
    {
     "data": {
      "text/plain": [
       "str"
      ]
     },
     "execution_count": 71,
     "metadata": {},
     "output_type": "execute_result"
    }
   ],
   "source": [
    "# Serializing Json\n",
    "LPG_TX_obj = json.dumps(LPG_TX, indent=4)\n",
    "type(LPG_TX_obj)"
   ]
  },
  {
   "cell_type": "code",
   "execution_count": 72,
   "id": "c69ee532",
   "metadata": {},
   "outputs": [],
   "source": [
    "# Writing to \"LPG_TX.json\"\n",
    "with open(\"../output_data/data_analysis/json/LPG_TX.json\", \"w\") as outfile:\n",
    "    outfile.write(LPG_TX_obj)"
   ]
  },
  {
   "cell_type": "markdown",
   "id": "dcf8d3a8",
   "metadata": {},
   "source": [
    "### Creating a Dataframe of Liquid Propane Gas Fueling Stations in Texas"
   ]
  },
  {
   "cell_type": "code",
   "execution_count": 73,
   "id": "a897e4cb",
   "metadata": {},
   "outputs": [],
   "source": [
    "# Extracting the features data\n",
    "# Each feature seems to represent a station on a map\n",
    "features_LPG_TX = LPG_TX['features']\n",
    "#features_LPG_TX"
   ]
  },
  {
   "cell_type": "code",
   "execution_count": 74,
   "id": "86ce363d",
   "metadata": {},
   "outputs": [
    {
     "data": {
      "text/html": [
       "<div>\n",
       "<style scoped>\n",
       "    .dataframe tbody tr th:only-of-type {\n",
       "        vertical-align: middle;\n",
       "    }\n",
       "\n",
       "    .dataframe tbody tr th {\n",
       "        vertical-align: top;\n",
       "    }\n",
       "\n",
       "    .dataframe thead th {\n",
       "        text-align: right;\n",
       "    }\n",
       "</style>\n",
       "<table border=\"1\" class=\"dataframe\">\n",
       "  <thead>\n",
       "    <tr style=\"text-align: right;\">\n",
       "      <th></th>\n",
       "      <th>type</th>\n",
       "      <th>geometry</th>\n",
       "      <th>properties</th>\n",
       "    </tr>\n",
       "  </thead>\n",
       "  <tbody>\n",
       "    <tr>\n",
       "      <th>0</th>\n",
       "      <td>Feature</td>\n",
       "      <td>{'type': 'Point', 'coordinates': [-101.885391,...</td>\n",
       "      <td>{'access_code': 'public', 'access_days_time': ...</td>\n",
       "    </tr>\n",
       "    <tr>\n",
       "      <th>1</th>\n",
       "      <td>Feature</td>\n",
       "      <td>{'type': 'Point', 'coordinates': [-96.73629, 3...</td>\n",
       "      <td>{'access_code': 'public', 'access_days_time': ...</td>\n",
       "    </tr>\n",
       "    <tr>\n",
       "      <th>2</th>\n",
       "      <td>Feature</td>\n",
       "      <td>{'type': 'Point', 'coordinates': [-95.54979990...</td>\n",
       "      <td>{'access_code': 'public', 'access_days_time': ...</td>\n",
       "    </tr>\n",
       "    <tr>\n",
       "      <th>3</th>\n",
       "      <td>Feature</td>\n",
       "      <td>{'type': 'Point', 'coordinates': [-94.226198, ...</td>\n",
       "      <td>{'access_code': 'public', 'access_days_time': ...</td>\n",
       "    </tr>\n",
       "    <tr>\n",
       "      <th>4</th>\n",
       "      <td>Feature</td>\n",
       "      <td>{'type': 'Point', 'coordinates': [-95.345249, ...</td>\n",
       "      <td>{'access_code': 'public', 'access_days_time': ...</td>\n",
       "    </tr>\n",
       "    <tr>\n",
       "      <th>...</th>\n",
       "      <td>...</td>\n",
       "      <td>...</td>\n",
       "      <td>...</td>\n",
       "    </tr>\n",
       "    <tr>\n",
       "      <th>353</th>\n",
       "      <td>Feature</td>\n",
       "      <td>{'type': 'Point', 'coordinates': [-95.240462, ...</td>\n",
       "      <td>{'access_code': 'public', 'access_days_time': ...</td>\n",
       "    </tr>\n",
       "    <tr>\n",
       "      <th>354</th>\n",
       "      <td>Feature</td>\n",
       "      <td>{'type': 'Point', 'coordinates': [-97.287105, ...</td>\n",
       "      <td>{'access_code': 'private', 'access_days_time':...</td>\n",
       "    </tr>\n",
       "    <tr>\n",
       "      <th>355</th>\n",
       "      <td>Feature</td>\n",
       "      <td>{'type': 'Point', 'coordinates': [-94.192517, ...</td>\n",
       "      <td>{'access_code': 'public', 'access_days_time': ...</td>\n",
       "    </tr>\n",
       "    <tr>\n",
       "      <th>356</th>\n",
       "      <td>Feature</td>\n",
       "      <td>{'type': 'Point', 'coordinates': [-97.67691, 2...</td>\n",
       "      <td>{'access_code': 'public', 'access_days_time': ...</td>\n",
       "    </tr>\n",
       "    <tr>\n",
       "      <th>357</th>\n",
       "      <td>Feature</td>\n",
       "      <td>{'type': 'Point', 'coordinates': [-95.54234, 2...</td>\n",
       "      <td>{'access_code': 'public', 'access_days_time': ...</td>\n",
       "    </tr>\n",
       "  </tbody>\n",
       "</table>\n",
       "<p>358 rows × 3 columns</p>\n",
       "</div>"
      ],
      "text/plain": [
       "        type                                           geometry  \\\n",
       "0    Feature  {'type': 'Point', 'coordinates': [-101.885391,...   \n",
       "1    Feature  {'type': 'Point', 'coordinates': [-96.73629, 3...   \n",
       "2    Feature  {'type': 'Point', 'coordinates': [-95.54979990...   \n",
       "3    Feature  {'type': 'Point', 'coordinates': [-94.226198, ...   \n",
       "4    Feature  {'type': 'Point', 'coordinates': [-95.345249, ...   \n",
       "..       ...                                                ...   \n",
       "353  Feature  {'type': 'Point', 'coordinates': [-95.240462, ...   \n",
       "354  Feature  {'type': 'Point', 'coordinates': [-97.287105, ...   \n",
       "355  Feature  {'type': 'Point', 'coordinates': [-94.192517, ...   \n",
       "356  Feature  {'type': 'Point', 'coordinates': [-97.67691, 2...   \n",
       "357  Feature  {'type': 'Point', 'coordinates': [-95.54234, 2...   \n",
       "\n",
       "                                            properties  \n",
       "0    {'access_code': 'public', 'access_days_time': ...  \n",
       "1    {'access_code': 'public', 'access_days_time': ...  \n",
       "2    {'access_code': 'public', 'access_days_time': ...  \n",
       "3    {'access_code': 'public', 'access_days_time': ...  \n",
       "4    {'access_code': 'public', 'access_days_time': ...  \n",
       "..                                                 ...  \n",
       "353  {'access_code': 'public', 'access_days_time': ...  \n",
       "354  {'access_code': 'private', 'access_days_time':...  \n",
       "355  {'access_code': 'public', 'access_days_time': ...  \n",
       "356  {'access_code': 'public', 'access_days_time': ...  \n",
       "357  {'access_code': 'public', 'access_days_time': ...  \n",
       "\n",
       "[358 rows x 3 columns]"
      ]
     },
     "execution_count": 74,
     "metadata": {},
     "output_type": "execute_result"
    }
   ],
   "source": [
    "# Creating a dataframe for analysis by creating a dictionary of data first\n",
    "# This is the raw form, not very usable\n",
    "features_LPG_TX_df = pd.DataFrame.from_dict(features_LPG_TX)\n",
    "features_LPG_TX_df"
   ]
  },
  {
   "cell_type": "markdown",
   "id": "41213141",
   "metadata": {},
   "source": [
    "### Exporting Cleaned Dataframe to CSV"
   ]
  },
  {
   "cell_type": "code",
   "execution_count": 75,
   "id": "3ea29215",
   "metadata": {},
   "outputs": [],
   "source": [
    "import csv\n",
    "\n",
    "# Identifying the data points you need from the data\n",
    "list_to_df = list() # We want to convert this list into a dataframe\n",
    "data_pt = dict() # This is each individual feature/record\n",
    "\n",
    "with open('../output_data/data_analysis/csv/LPG_TX.csv', 'w', newline='') as csvfile:\n",
    "    csvwriter = csv.writer(csvfile, delimiter=',')\n",
    "    \n",
    "    # Insert column headers\n",
    "    csvwriter.writerow(['id', 'state', 'coordinates','fuel type'])\n",
    "\n",
    "    for i, v in features_LPG_TX_df.iterrows():\n",
    "\n",
    "        data_pt['id'] = v['properties']['id']\n",
    "        data_pt['state'] = v['properties']['state']\n",
    "        data_pt['coordinates'] = v['geometry']['coordinates']\n",
    "        data_pt['fuel_type_code'] = v['properties']['fuel_type_code']\n",
    "\n",
    "        #print([data_pt['id'], data_pt['state'], data_pt['coordinates'],data_pt['fuel_type_code']])\n",
    "        csvwriter.writerow([data_pt['id'], data_pt['state'], data_pt['coordinates'],data_pt['fuel_type_code']])"
   ]
  },
  {
   "cell_type": "markdown",
   "id": "67237ffe",
   "metadata": {},
   "source": [
    "# New York Alternate Fuel Stations Data"
   ]
  },
  {
   "cell_type": "markdown",
   "id": "e76d0f5a",
   "metadata": {},
   "source": [
    "## How many total of all of the top 3 most common alternative fuel stations are there in New York?"
   ]
  },
  {
   "cell_type": "code",
   "execution_count": 76,
   "id": "bbe4f7cb",
   "metadata": {},
   "outputs": [],
   "source": [
    "# Gathering information for all of the top 3 most common alternative fuel stations in New York\n",
    "api_key = os.environ[\"AFDC_API\"]\n",
    "url = \"https://developer.nrel.gov/api/alt-fuel-stations/v1.geojson\"\n",
    "top3_alt_fuels_NY = [\"E85\",\"ELEC\",\"LPG\"]\n",
    "country=\"US\"\n",
    "state=\"NY\""
   ]
  },
  {
   "cell_type": "code",
   "execution_count": 77,
   "id": "8ab1a7ca",
   "metadata": {},
   "outputs": [],
   "source": [
    "# Craft the URL params\n",
    "payload = {'api_key': api_key, 'fuel_type': (',').join(top3_alt_fuels_NY), \"country\":country, \"state\":state}"
   ]
  },
  {
   "cell_type": "code",
   "execution_count": 78,
   "id": "d5081e81",
   "metadata": {},
   "outputs": [],
   "source": [
    "# Requesting the above data from the API\n",
    "r = requests.get(url, params=payload)\n",
    "top3_alt_fuels_NY = r.json()\n",
    "#top3_alt_fuels_NY"
   ]
  },
  {
   "cell_type": "code",
   "execution_count": 79,
   "id": "1225f533",
   "metadata": {},
   "outputs": [
    {
     "data": {
      "text/plain": [
       "str"
      ]
     },
     "execution_count": 79,
     "metadata": {},
     "output_type": "execute_result"
    }
   ],
   "source": [
    "# Serializing Json\n",
    "top3_alt_fuels_NY_obj = json.dumps(top3_alt_fuels_NY, indent=4)\n",
    "type(top3_alt_fuels_NY_obj)"
   ]
  },
  {
   "cell_type": "code",
   "execution_count": 80,
   "id": "d0776637",
   "metadata": {},
   "outputs": [],
   "source": [
    "# Writing to \"top3_alt_fuels_NY.json\"\n",
    "with open(\"../output_data/data_analysis/json/top3_alt_fuels_NY.json\", \"w\") as outfile:\n",
    "    outfile.write(top3_alt_fuels_NY_obj)"
   ]
  },
  {
   "cell_type": "markdown",
   "id": "4a8e22db",
   "metadata": {},
   "source": [
    "### Creating a Dataframe of Top 3 Alternative Fuels in New York"
   ]
  },
  {
   "cell_type": "code",
   "execution_count": 81,
   "id": "22051e1e",
   "metadata": {},
   "outputs": [],
   "source": [
    "# Extracting the features data\n",
    "# Each feature seems to represent a station on a map\n",
    "features_top3_alt_fuels_NY = top3_alt_fuels_NY['features']\n",
    "#features_top3_alt_fuels_NY"
   ]
  },
  {
   "cell_type": "code",
   "execution_count": 82,
   "id": "93ba5b74",
   "metadata": {},
   "outputs": [
    {
     "data": {
      "text/html": [
       "<div>\n",
       "<style scoped>\n",
       "    .dataframe tbody tr th:only-of-type {\n",
       "        vertical-align: middle;\n",
       "    }\n",
       "\n",
       "    .dataframe tbody tr th {\n",
       "        vertical-align: top;\n",
       "    }\n",
       "\n",
       "    .dataframe thead th {\n",
       "        text-align: right;\n",
       "    }\n",
       "</style>\n",
       "<table border=\"1\" class=\"dataframe\">\n",
       "  <thead>\n",
       "    <tr style=\"text-align: right;\">\n",
       "      <th></th>\n",
       "      <th>type</th>\n",
       "      <th>geometry</th>\n",
       "      <th>properties</th>\n",
       "    </tr>\n",
       "  </thead>\n",
       "  <tbody>\n",
       "    <tr>\n",
       "      <th>0</th>\n",
       "      <td>Feature</td>\n",
       "      <td>{'type': 'Point', 'coordinates': [-74.672938, ...</td>\n",
       "      <td>{'access_code': 'public', 'access_days_time': ...</td>\n",
       "    </tr>\n",
       "    <tr>\n",
       "      <th>1</th>\n",
       "      <td>Feature</td>\n",
       "      <td>{'type': 'Point', 'coordinates': [-78.85922572...</td>\n",
       "      <td>{'access_code': 'public', 'access_days_time': ...</td>\n",
       "    </tr>\n",
       "    <tr>\n",
       "      <th>2</th>\n",
       "      <td>Feature</td>\n",
       "      <td>{'type': 'Point', 'coordinates': [-73.634055, ...</td>\n",
       "      <td>{'access_code': 'public', 'access_days_time': ...</td>\n",
       "    </tr>\n",
       "    <tr>\n",
       "      <th>3</th>\n",
       "      <td>Feature</td>\n",
       "      <td>{'type': 'Point', 'coordinates': [-73.160001, ...</td>\n",
       "      <td>{'access_code': 'public', 'access_days_time': ...</td>\n",
       "    </tr>\n",
       "    <tr>\n",
       "      <th>4</th>\n",
       "      <td>Feature</td>\n",
       "      <td>{'type': 'Point', 'coordinates': [-73.464669, ...</td>\n",
       "      <td>{'access_code': 'public', 'access_days_time': ...</td>\n",
       "    </tr>\n",
       "    <tr>\n",
       "      <th>...</th>\n",
       "      <td>...</td>\n",
       "      <td>...</td>\n",
       "      <td>...</td>\n",
       "    </tr>\n",
       "    <tr>\n",
       "      <th>4138</th>\n",
       "      <td>Feature</td>\n",
       "      <td>{'type': 'Point', 'coordinates': [-73.15867, 4...</td>\n",
       "      <td>{'access_code': 'public', 'access_days_time': ...</td>\n",
       "    </tr>\n",
       "    <tr>\n",
       "      <th>4139</th>\n",
       "      <td>Feature</td>\n",
       "      <td>{'type': 'Point', 'coordinates': [-73.15845, 4...</td>\n",
       "      <td>{'access_code': 'public', 'access_days_time': ...</td>\n",
       "    </tr>\n",
       "    <tr>\n",
       "      <th>4140</th>\n",
       "      <td>Feature</td>\n",
       "      <td>{'type': 'Point', 'coordinates': [-72.755549, ...</td>\n",
       "      <td>{'access_code': 'public', 'access_days_time': ...</td>\n",
       "    </tr>\n",
       "    <tr>\n",
       "      <th>4141</th>\n",
       "      <td>Feature</td>\n",
       "      <td>{'type': 'Point', 'coordinates': [-72.755536, ...</td>\n",
       "      <td>{'access_code': 'public', 'access_days_time': ...</td>\n",
       "    </tr>\n",
       "    <tr>\n",
       "      <th>4142</th>\n",
       "      <td>Feature</td>\n",
       "      <td>{'type': 'Point', 'coordinates': [-77.685189, ...</td>\n",
       "      <td>{'access_code': 'public', 'access_days_time': ...</td>\n",
       "    </tr>\n",
       "  </tbody>\n",
       "</table>\n",
       "<p>4143 rows × 3 columns</p>\n",
       "</div>"
      ],
      "text/plain": [
       "         type                                           geometry  \\\n",
       "0     Feature  {'type': 'Point', 'coordinates': [-74.672938, ...   \n",
       "1     Feature  {'type': 'Point', 'coordinates': [-78.85922572...   \n",
       "2     Feature  {'type': 'Point', 'coordinates': [-73.634055, ...   \n",
       "3     Feature  {'type': 'Point', 'coordinates': [-73.160001, ...   \n",
       "4     Feature  {'type': 'Point', 'coordinates': [-73.464669, ...   \n",
       "...       ...                                                ...   \n",
       "4138  Feature  {'type': 'Point', 'coordinates': [-73.15867, 4...   \n",
       "4139  Feature  {'type': 'Point', 'coordinates': [-73.15845, 4...   \n",
       "4140  Feature  {'type': 'Point', 'coordinates': [-72.755549, ...   \n",
       "4141  Feature  {'type': 'Point', 'coordinates': [-72.755536, ...   \n",
       "4142  Feature  {'type': 'Point', 'coordinates': [-77.685189, ...   \n",
       "\n",
       "                                             properties  \n",
       "0     {'access_code': 'public', 'access_days_time': ...  \n",
       "1     {'access_code': 'public', 'access_days_time': ...  \n",
       "2     {'access_code': 'public', 'access_days_time': ...  \n",
       "3     {'access_code': 'public', 'access_days_time': ...  \n",
       "4     {'access_code': 'public', 'access_days_time': ...  \n",
       "...                                                 ...  \n",
       "4138  {'access_code': 'public', 'access_days_time': ...  \n",
       "4139  {'access_code': 'public', 'access_days_time': ...  \n",
       "4140  {'access_code': 'public', 'access_days_time': ...  \n",
       "4141  {'access_code': 'public', 'access_days_time': ...  \n",
       "4142  {'access_code': 'public', 'access_days_time': ...  \n",
       "\n",
       "[4143 rows x 3 columns]"
      ]
     },
     "execution_count": 82,
     "metadata": {},
     "output_type": "execute_result"
    }
   ],
   "source": [
    "# Creating a dataframe for analysis by creating a dictionary of data first\n",
    "# This is the raw form, not very usable\n",
    "features_top3_alt_fuels_NY_df = pd.DataFrame.from_dict(features_top3_alt_fuels_NY)\n",
    "features_top3_alt_fuels_NY_df"
   ]
  },
  {
   "cell_type": "markdown",
   "id": "1247d65c",
   "metadata": {},
   "source": [
    "### Exporting Cleaned Dataframe to CSV"
   ]
  },
  {
   "cell_type": "code",
   "execution_count": 83,
   "id": "78aa8ada",
   "metadata": {},
   "outputs": [],
   "source": [
    "import csv\n",
    "\n",
    "# Identifying the data points you need from the data\n",
    "list_to_df = list() # We want to convert this list into a dataframe\n",
    "data_pt = dict() # This is each individual feature/record\n",
    "\n",
    "with open('../output_data/data_analysis/csv/top3_alt_fuels_NY.csv', 'w', newline='') as csvfile:\n",
    "    csvwriter = csv.writer(csvfile, delimiter=',')\n",
    "    \n",
    "    # Insert column headers\n",
    "    csvwriter.writerow(['id', 'state', 'coordinates','fuel type'])\n",
    "\n",
    "    for i, v in features_top3_alt_fuels_NY_df.iterrows():\n",
    "\n",
    "        data_pt['id'] = v['properties']['id']\n",
    "        data_pt['state'] = v['properties']['state']\n",
    "        data_pt['coordinates'] = v['geometry']['coordinates']\n",
    "        data_pt['fuel_type_code'] = v['properties']['fuel_type_code']\n",
    "\n",
    "        #print([data_pt['id'], data_pt['state'], data_pt['coordinates'],data_pt['fuel_type_code']])\n",
    "        csvwriter.writerow([data_pt['id'], data_pt['state'], data_pt['coordinates'],data_pt['fuel_type_code']])"
   ]
  },
  {
   "cell_type": "markdown",
   "id": "b9438dcd",
   "metadata": {},
   "source": [
    "## How many ethanol fueling stations are there in New York?"
   ]
  },
  {
   "cell_type": "code",
   "execution_count": 84,
   "id": "8b546dd8",
   "metadata": {},
   "outputs": [],
   "source": [
    "# Gathering information for all of the ethanol fuel stations in New York\n",
    "api_key = os.environ[\"AFDC_API\"]\n",
    "url = \"https://developer.nrel.gov/api/alt-fuel-stations/v1.geojson\"\n",
    "E85_NY = [\"E85\"]\n",
    "country=\"US\"\n",
    "state=\"NY\""
   ]
  },
  {
   "cell_type": "code",
   "execution_count": 85,
   "id": "71041c9f",
   "metadata": {},
   "outputs": [],
   "source": [
    "# Craft the URL params\n",
    "payload = {'api_key': api_key, 'fuel_type': (',').join(E85_NY), \"country\":country, \"state\":state}"
   ]
  },
  {
   "cell_type": "code",
   "execution_count": 86,
   "id": "1a455794",
   "metadata": {},
   "outputs": [],
   "source": [
    "# Requesting the above data from the API\n",
    "r = requests.get(url, params=payload)\n",
    "E85_NY = r.json()\n",
    "#E85_NY"
   ]
  },
  {
   "cell_type": "code",
   "execution_count": 87,
   "id": "b689f25c",
   "metadata": {},
   "outputs": [
    {
     "data": {
      "text/plain": [
       "str"
      ]
     },
     "execution_count": 87,
     "metadata": {},
     "output_type": "execute_result"
    }
   ],
   "source": [
    "# Serializing Json\n",
    "E85_NY_obj = json.dumps(E85_NY, indent=4)\n",
    "type(E85_NY_obj)"
   ]
  },
  {
   "cell_type": "code",
   "execution_count": 88,
   "id": "afd662dd",
   "metadata": {},
   "outputs": [],
   "source": [
    "# Writing to \"E85_NY.json\"\n",
    "with open(\"../output_data/data_analysis/json/E85_NY.json\", \"w\") as outfile:\n",
    "    outfile.write(E85_NY_obj)"
   ]
  },
  {
   "cell_type": "markdown",
   "id": "1e59e069",
   "metadata": {},
   "source": [
    "### Creating a Dataframe of Ethanol Fueling Stations in New York"
   ]
  },
  {
   "cell_type": "code",
   "execution_count": 89,
   "id": "d49f472e",
   "metadata": {},
   "outputs": [],
   "source": [
    "# Extracting the features data\n",
    "# Each feature seems to represent a station on a map\n",
    "features_E85_NY = E85_NY['features']\n",
    "#features_E85_NY"
   ]
  },
  {
   "cell_type": "code",
   "execution_count": 90,
   "id": "f341488f",
   "metadata": {},
   "outputs": [
    {
     "data": {
      "text/html": [
       "<div>\n",
       "<style scoped>\n",
       "    .dataframe tbody tr th:only-of-type {\n",
       "        vertical-align: middle;\n",
       "    }\n",
       "\n",
       "    .dataframe tbody tr th {\n",
       "        vertical-align: top;\n",
       "    }\n",
       "\n",
       "    .dataframe thead th {\n",
       "        text-align: right;\n",
       "    }\n",
       "</style>\n",
       "<table border=\"1\" class=\"dataframe\">\n",
       "  <thead>\n",
       "    <tr style=\"text-align: right;\">\n",
       "      <th></th>\n",
       "      <th>type</th>\n",
       "      <th>geometry</th>\n",
       "      <th>properties</th>\n",
       "    </tr>\n",
       "  </thead>\n",
       "  <tbody>\n",
       "    <tr>\n",
       "      <th>0</th>\n",
       "      <td>Feature</td>\n",
       "      <td>{'type': 'Point', 'coordinates': [-73.464669, ...</td>\n",
       "      <td>{'access_code': 'public', 'access_days_time': ...</td>\n",
       "    </tr>\n",
       "    <tr>\n",
       "      <th>1</th>\n",
       "      <td>Feature</td>\n",
       "      <td>{'type': 'Point', 'coordinates': [-73.99777, 4...</td>\n",
       "      <td>{'access_code': 'public', 'access_days_time': ...</td>\n",
       "    </tr>\n",
       "    <tr>\n",
       "      <th>2</th>\n",
       "      <td>Feature</td>\n",
       "      <td>{'type': 'Point', 'coordinates': [-73.393473, ...</td>\n",
       "      <td>{'access_code': 'public', 'access_days_time': ...</td>\n",
       "    </tr>\n",
       "    <tr>\n",
       "      <th>3</th>\n",
       "      <td>Feature</td>\n",
       "      <td>{'type': 'Point', 'coordinates': [-73.776371, ...</td>\n",
       "      <td>{'access_code': 'private', 'access_days_time':...</td>\n",
       "    </tr>\n",
       "    <tr>\n",
       "      <th>4</th>\n",
       "      <td>Feature</td>\n",
       "      <td>{'type': 'Point', 'coordinates': [-73.701367, ...</td>\n",
       "      <td>{'access_code': 'public', 'access_days_time': ...</td>\n",
       "    </tr>\n",
       "    <tr>\n",
       "      <th>...</th>\n",
       "      <td>...</td>\n",
       "      <td>...</td>\n",
       "      <td>...</td>\n",
       "    </tr>\n",
       "    <tr>\n",
       "      <th>69</th>\n",
       "      <td>Feature</td>\n",
       "      <td>{'type': 'Point', 'coordinates': [-73.919457, ...</td>\n",
       "      <td>{'access_code': 'public', 'access_days_time': ...</td>\n",
       "    </tr>\n",
       "    <tr>\n",
       "      <th>70</th>\n",
       "      <td>Feature</td>\n",
       "      <td>{'type': 'Point', 'coordinates': [-71.947876, ...</td>\n",
       "      <td>{'access_code': 'public', 'access_days_time': ...</td>\n",
       "    </tr>\n",
       "    <tr>\n",
       "      <th>71</th>\n",
       "      <td>Feature</td>\n",
       "      <td>{'type': 'Point', 'coordinates': [-74.18958062...</td>\n",
       "      <td>{'access_code': 'public', 'access_days_time': ...</td>\n",
       "    </tr>\n",
       "    <tr>\n",
       "      <th>72</th>\n",
       "      <td>Feature</td>\n",
       "      <td>{'type': 'Point', 'coordinates': [-73.4913, 40...</td>\n",
       "      <td>{'access_code': 'public', 'access_days_time': ...</td>\n",
       "    </tr>\n",
       "    <tr>\n",
       "      <th>73</th>\n",
       "      <td>Feature</td>\n",
       "      <td>{'type': 'Point', 'coordinates': [-73.24568, 4...</td>\n",
       "      <td>{'access_code': 'public', 'access_days_time': ...</td>\n",
       "    </tr>\n",
       "  </tbody>\n",
       "</table>\n",
       "<p>74 rows × 3 columns</p>\n",
       "</div>"
      ],
      "text/plain": [
       "       type                                           geometry  \\\n",
       "0   Feature  {'type': 'Point', 'coordinates': [-73.464669, ...   \n",
       "1   Feature  {'type': 'Point', 'coordinates': [-73.99777, 4...   \n",
       "2   Feature  {'type': 'Point', 'coordinates': [-73.393473, ...   \n",
       "3   Feature  {'type': 'Point', 'coordinates': [-73.776371, ...   \n",
       "4   Feature  {'type': 'Point', 'coordinates': [-73.701367, ...   \n",
       "..      ...                                                ...   \n",
       "69  Feature  {'type': 'Point', 'coordinates': [-73.919457, ...   \n",
       "70  Feature  {'type': 'Point', 'coordinates': [-71.947876, ...   \n",
       "71  Feature  {'type': 'Point', 'coordinates': [-74.18958062...   \n",
       "72  Feature  {'type': 'Point', 'coordinates': [-73.4913, 40...   \n",
       "73  Feature  {'type': 'Point', 'coordinates': [-73.24568, 4...   \n",
       "\n",
       "                                           properties  \n",
       "0   {'access_code': 'public', 'access_days_time': ...  \n",
       "1   {'access_code': 'public', 'access_days_time': ...  \n",
       "2   {'access_code': 'public', 'access_days_time': ...  \n",
       "3   {'access_code': 'private', 'access_days_time':...  \n",
       "4   {'access_code': 'public', 'access_days_time': ...  \n",
       "..                                                ...  \n",
       "69  {'access_code': 'public', 'access_days_time': ...  \n",
       "70  {'access_code': 'public', 'access_days_time': ...  \n",
       "71  {'access_code': 'public', 'access_days_time': ...  \n",
       "72  {'access_code': 'public', 'access_days_time': ...  \n",
       "73  {'access_code': 'public', 'access_days_time': ...  \n",
       "\n",
       "[74 rows x 3 columns]"
      ]
     },
     "execution_count": 90,
     "metadata": {},
     "output_type": "execute_result"
    }
   ],
   "source": [
    "# Creating a dataframe for analysis by creating a dictionary of data first\n",
    "# This is the raw form, not very usable\n",
    "features_E85_NY_df = pd.DataFrame.from_dict(features_E85_NY)\n",
    "features_E85_NY_df"
   ]
  },
  {
   "cell_type": "markdown",
   "id": "937bcf0b",
   "metadata": {},
   "source": [
    "### Exporting Cleaned Dataframe to CSV"
   ]
  },
  {
   "cell_type": "code",
   "execution_count": 91,
   "id": "07e39aad",
   "metadata": {},
   "outputs": [],
   "source": [
    "import csv\n",
    "\n",
    "# Identifying the data points you need from the data\n",
    "list_to_df = list() # We want to convert this list into a dataframe\n",
    "data_pt = dict() # This is each individual feature/record\n",
    "\n",
    "with open('../output_data/data_analysis/csv/E85_NY.csv', 'w', newline='') as csvfile:\n",
    "    csvwriter = csv.writer(csvfile, delimiter=',')\n",
    "    \n",
    "    # Insert column headers\n",
    "    csvwriter.writerow(['id', 'state', 'coordinates','fuel type'])\n",
    "\n",
    "    for i, v in features_E85_NY_df.iterrows():\n",
    "\n",
    "        data_pt['id'] = v['properties']['id']\n",
    "        data_pt['state'] = v['properties']['state']\n",
    "        data_pt['coordinates'] = v['geometry']['coordinates']\n",
    "        data_pt['fuel_type_code'] = v['properties']['fuel_type_code']\n",
    "\n",
    "        #print([data_pt['id'], data_pt['state'], data_pt['coordinates'],data_pt['fuel_type_code']])\n",
    "        csvwriter.writerow([data_pt['id'], data_pt['state'], data_pt['coordinates'],data_pt['fuel_type_code']])"
   ]
  },
  {
   "cell_type": "markdown",
   "id": "e19746e2",
   "metadata": {},
   "source": [
    "## How many electric charging stations are there in New York?"
   ]
  },
  {
   "cell_type": "code",
   "execution_count": 92,
   "id": "cfcfd564",
   "metadata": {},
   "outputs": [],
   "source": [
    "# Gathering information for all of the electric charging stations in New York\n",
    "api_key = os.environ[\"AFDC_API\"]\n",
    "url = \"https://developer.nrel.gov/api/alt-fuel-stations/v1.geojson\"\n",
    "ELEC_NY = [\"ELEC\"]\n",
    "country=\"US\"\n",
    "state=\"NY\""
   ]
  },
  {
   "cell_type": "code",
   "execution_count": 93,
   "id": "84d2b3fe",
   "metadata": {},
   "outputs": [],
   "source": [
    "# Craft the URL params\n",
    "payload = {'api_key': api_key, 'fuel_type': (',').join(ELEC_NY), \"country\":country, \"state\":state}"
   ]
  },
  {
   "cell_type": "code",
   "execution_count": 94,
   "id": "12d234d6",
   "metadata": {},
   "outputs": [],
   "source": [
    "# Requesting the above data from the API\n",
    "r = requests.get(url, params=payload)\n",
    "ELEC_NY = r.json()\n",
    "#ELEC_NY"
   ]
  },
  {
   "cell_type": "code",
   "execution_count": 95,
   "id": "fc107e3c",
   "metadata": {},
   "outputs": [
    {
     "data": {
      "text/plain": [
       "str"
      ]
     },
     "execution_count": 95,
     "metadata": {},
     "output_type": "execute_result"
    }
   ],
   "source": [
    "# Serializing Json\n",
    "ELEC_NY_obj = json.dumps(ELEC_NY, indent=4)\n",
    "type(ELEC_NY_obj)"
   ]
  },
  {
   "cell_type": "code",
   "execution_count": 96,
   "id": "b7fe5e7c",
   "metadata": {},
   "outputs": [],
   "source": [
    "# Writing to \"ELEC_NY.json\"\n",
    "with open(\"../output_data/data_analysis/json/ELEC_NY.json\", \"w\") as outfile:\n",
    "    outfile.write(ELEC_NY_obj)"
   ]
  },
  {
   "cell_type": "markdown",
   "id": "da2410e6",
   "metadata": {},
   "source": [
    "### Creating a Dataframe of Electric Car Charging Stations in New York"
   ]
  },
  {
   "cell_type": "code",
   "execution_count": 97,
   "id": "e294658b",
   "metadata": {},
   "outputs": [],
   "source": [
    "# Extracting the features data\n",
    "# Each feature seems to represent a station on a map\n",
    "features_ELEC_NY = ELEC_NY['features']\n",
    "#features_ELEC_NY"
   ]
  },
  {
   "cell_type": "code",
   "execution_count": 98,
   "id": "bd254ed3",
   "metadata": {},
   "outputs": [
    {
     "data": {
      "text/html": [
       "<div>\n",
       "<style scoped>\n",
       "    .dataframe tbody tr th:only-of-type {\n",
       "        vertical-align: middle;\n",
       "    }\n",
       "\n",
       "    .dataframe tbody tr th {\n",
       "        vertical-align: top;\n",
       "    }\n",
       "\n",
       "    .dataframe thead th {\n",
       "        text-align: right;\n",
       "    }\n",
       "</style>\n",
       "<table border=\"1\" class=\"dataframe\">\n",
       "  <thead>\n",
       "    <tr style=\"text-align: right;\">\n",
       "      <th></th>\n",
       "      <th>type</th>\n",
       "      <th>geometry</th>\n",
       "      <th>properties</th>\n",
       "    </tr>\n",
       "  </thead>\n",
       "  <tbody>\n",
       "    <tr>\n",
       "      <th>0</th>\n",
       "      <td>Feature</td>\n",
       "      <td>{'type': 'Point', 'coordinates': [-73.608978, ...</td>\n",
       "      <td>{'access_code': 'private', 'access_days_time':...</td>\n",
       "    </tr>\n",
       "    <tr>\n",
       "      <th>1</th>\n",
       "      <td>Feature</td>\n",
       "      <td>{'type': 'Point', 'coordinates': [-73.857693, ...</td>\n",
       "      <td>{'access_code': 'private', 'access_days_time':...</td>\n",
       "    </tr>\n",
       "    <tr>\n",
       "      <th>2</th>\n",
       "      <td>Feature</td>\n",
       "      <td>{'type': 'Point', 'coordinates': [-73.773021, ...</td>\n",
       "      <td>{'access_code': 'private', 'access_days_time':...</td>\n",
       "    </tr>\n",
       "    <tr>\n",
       "      <th>3</th>\n",
       "      <td>Feature</td>\n",
       "      <td>{'type': 'Point', 'coordinates': [-73.774182, ...</td>\n",
       "      <td>{'access_code': 'public', 'access_days_time': ...</td>\n",
       "    </tr>\n",
       "    <tr>\n",
       "      <th>4</th>\n",
       "      <td>Feature</td>\n",
       "      <td>{'type': 'Point', 'coordinates': [-73.906405, ...</td>\n",
       "      <td>{'access_code': 'private', 'access_days_time':...</td>\n",
       "    </tr>\n",
       "    <tr>\n",
       "      <th>...</th>\n",
       "      <td>...</td>\n",
       "      <td>...</td>\n",
       "      <td>...</td>\n",
       "    </tr>\n",
       "    <tr>\n",
       "      <th>4015</th>\n",
       "      <td>Feature</td>\n",
       "      <td>{'type': 'Point', 'coordinates': [-73.15867, 4...</td>\n",
       "      <td>{'access_code': 'public', 'access_days_time': ...</td>\n",
       "    </tr>\n",
       "    <tr>\n",
       "      <th>4016</th>\n",
       "      <td>Feature</td>\n",
       "      <td>{'type': 'Point', 'coordinates': [-73.15845, 4...</td>\n",
       "      <td>{'access_code': 'public', 'access_days_time': ...</td>\n",
       "    </tr>\n",
       "    <tr>\n",
       "      <th>4017</th>\n",
       "      <td>Feature</td>\n",
       "      <td>{'type': 'Point', 'coordinates': [-72.755549, ...</td>\n",
       "      <td>{'access_code': 'public', 'access_days_time': ...</td>\n",
       "    </tr>\n",
       "    <tr>\n",
       "      <th>4018</th>\n",
       "      <td>Feature</td>\n",
       "      <td>{'type': 'Point', 'coordinates': [-72.755536, ...</td>\n",
       "      <td>{'access_code': 'public', 'access_days_time': ...</td>\n",
       "    </tr>\n",
       "    <tr>\n",
       "      <th>4019</th>\n",
       "      <td>Feature</td>\n",
       "      <td>{'type': 'Point', 'coordinates': [-77.685189, ...</td>\n",
       "      <td>{'access_code': 'public', 'access_days_time': ...</td>\n",
       "    </tr>\n",
       "  </tbody>\n",
       "</table>\n",
       "<p>4020 rows × 3 columns</p>\n",
       "</div>"
      ],
      "text/plain": [
       "         type                                           geometry  \\\n",
       "0     Feature  {'type': 'Point', 'coordinates': [-73.608978, ...   \n",
       "1     Feature  {'type': 'Point', 'coordinates': [-73.857693, ...   \n",
       "2     Feature  {'type': 'Point', 'coordinates': [-73.773021, ...   \n",
       "3     Feature  {'type': 'Point', 'coordinates': [-73.774182, ...   \n",
       "4     Feature  {'type': 'Point', 'coordinates': [-73.906405, ...   \n",
       "...       ...                                                ...   \n",
       "4015  Feature  {'type': 'Point', 'coordinates': [-73.15867, 4...   \n",
       "4016  Feature  {'type': 'Point', 'coordinates': [-73.15845, 4...   \n",
       "4017  Feature  {'type': 'Point', 'coordinates': [-72.755549, ...   \n",
       "4018  Feature  {'type': 'Point', 'coordinates': [-72.755536, ...   \n",
       "4019  Feature  {'type': 'Point', 'coordinates': [-77.685189, ...   \n",
       "\n",
       "                                             properties  \n",
       "0     {'access_code': 'private', 'access_days_time':...  \n",
       "1     {'access_code': 'private', 'access_days_time':...  \n",
       "2     {'access_code': 'private', 'access_days_time':...  \n",
       "3     {'access_code': 'public', 'access_days_time': ...  \n",
       "4     {'access_code': 'private', 'access_days_time':...  \n",
       "...                                                 ...  \n",
       "4015  {'access_code': 'public', 'access_days_time': ...  \n",
       "4016  {'access_code': 'public', 'access_days_time': ...  \n",
       "4017  {'access_code': 'public', 'access_days_time': ...  \n",
       "4018  {'access_code': 'public', 'access_days_time': ...  \n",
       "4019  {'access_code': 'public', 'access_days_time': ...  \n",
       "\n",
       "[4020 rows x 3 columns]"
      ]
     },
     "execution_count": 98,
     "metadata": {},
     "output_type": "execute_result"
    }
   ],
   "source": [
    "# Creating a dataframe for analysis by creating a dictionary of data first\n",
    "# This is the raw form, not very usable\n",
    "features_ELEC_NY_df = pd.DataFrame.from_dict(features_ELEC_NY)\n",
    "features_ELEC_NY_df"
   ]
  },
  {
   "cell_type": "markdown",
   "id": "033b1e1b",
   "metadata": {},
   "source": [
    "### Exporting Cleaned Dataframe to CSV"
   ]
  },
  {
   "cell_type": "code",
   "execution_count": 99,
   "id": "bb0bf133",
   "metadata": {},
   "outputs": [],
   "source": [
    "import csv\n",
    "\n",
    "# Identifying the data points you need from the data\n",
    "list_to_df = list() # We want to convert this list into a dataframe\n",
    "data_pt = dict() # This is each individual feature/record\n",
    "\n",
    "with open('../output_data/data_analysis/csv/ELEC_NY.csv', 'w', newline='') as csvfile:\n",
    "    csvwriter = csv.writer(csvfile, delimiter=',')\n",
    "    \n",
    "    # Insert column headers\n",
    "    csvwriter.writerow(['id', 'state', 'coordinates','fuel type'])\n",
    "\n",
    "    for i, v in features_ELEC_NY_df.iterrows():\n",
    "\n",
    "        data_pt['id'] = v['properties']['id']\n",
    "        data_pt['state'] = v['properties']['state']\n",
    "        data_pt['coordinates'] = v['geometry']['coordinates']\n",
    "        data_pt['fuel_type_code'] = v['properties']['fuel_type_code']\n",
    "\n",
    "        #print([data_pt['id'], data_pt['state'], data_pt['coordinates'],data_pt['fuel_type_code']])\n",
    "        csvwriter.writerow([data_pt['id'], data_pt['state'], data_pt['coordinates'],data_pt['fuel_type_code']])"
   ]
  },
  {
   "cell_type": "markdown",
   "id": "91e21b7b",
   "metadata": {},
   "source": [
    "## How many propane fueling stations are there in New York?"
   ]
  },
  {
   "cell_type": "code",
   "execution_count": 100,
   "id": "aeba8274",
   "metadata": {},
   "outputs": [],
   "source": [
    "# Gathering information for all of the electric charging stations in New York\n",
    "api_key = os.environ[\"AFDC_API\"]\n",
    "url = \"https://developer.nrel.gov/api/alt-fuel-stations/v1.geojson\"\n",
    "LPG_NY = [\"LPG\"]\n",
    "country=\"US\"\n",
    "state=\"NY\""
   ]
  },
  {
   "cell_type": "code",
   "execution_count": 101,
   "id": "1e303fbd",
   "metadata": {},
   "outputs": [],
   "source": [
    "# Craft the URL params\n",
    "payload = {'api_key': api_key, 'fuel_type': (',').join(LPG_NY), \"country\":country, \"state\":state}"
   ]
  },
  {
   "cell_type": "code",
   "execution_count": 102,
   "id": "55956f93",
   "metadata": {},
   "outputs": [],
   "source": [
    "# Requesting the above data from the API\n",
    "r = requests.get(url, params=payload)\n",
    "LPG_NY = r.json()\n",
    "#LPG_NY"
   ]
  },
  {
   "cell_type": "code",
   "execution_count": 103,
   "id": "8b23b3c0",
   "metadata": {},
   "outputs": [
    {
     "data": {
      "text/plain": [
       "str"
      ]
     },
     "execution_count": 103,
     "metadata": {},
     "output_type": "execute_result"
    }
   ],
   "source": [
    "# Serializing Json\n",
    "LPG_NY_obj = json.dumps(LPG_NY, indent=4)\n",
    "type(LPG_NY_obj)"
   ]
  },
  {
   "cell_type": "code",
   "execution_count": 104,
   "id": "ebe023e1",
   "metadata": {},
   "outputs": [],
   "source": [
    "# Writing to \"LPG_NY.json\"\n",
    "with open(\"../output_data/data_analysis/json/LPG_NY.json\", \"w\") as outfile:\n",
    "    outfile.write(LPG_NY_obj)"
   ]
  },
  {
   "cell_type": "markdown",
   "id": "17d8f704",
   "metadata": {},
   "source": [
    "### Creating a Dataframe of Liquid Propane Gas Fueling Stations in New York"
   ]
  },
  {
   "cell_type": "code",
   "execution_count": 105,
   "id": "7ea2d7f1",
   "metadata": {},
   "outputs": [],
   "source": [
    "# Extracting the features data\n",
    "# Each feature seems to represent a station on a map\n",
    "features_LPG_NY = LPG_NY['features']\n",
    "#features_LPG_NY"
   ]
  },
  {
   "cell_type": "code",
   "execution_count": 106,
   "id": "9f8d7499",
   "metadata": {},
   "outputs": [
    {
     "data": {
      "text/html": [
       "<div>\n",
       "<style scoped>\n",
       "    .dataframe tbody tr th:only-of-type {\n",
       "        vertical-align: middle;\n",
       "    }\n",
       "\n",
       "    .dataframe tbody tr th {\n",
       "        vertical-align: top;\n",
       "    }\n",
       "\n",
       "    .dataframe thead th {\n",
       "        text-align: right;\n",
       "    }\n",
       "</style>\n",
       "<table border=\"1\" class=\"dataframe\">\n",
       "  <thead>\n",
       "    <tr style=\"text-align: right;\">\n",
       "      <th></th>\n",
       "      <th>type</th>\n",
       "      <th>geometry</th>\n",
       "      <th>properties</th>\n",
       "    </tr>\n",
       "  </thead>\n",
       "  <tbody>\n",
       "    <tr>\n",
       "      <th>0</th>\n",
       "      <td>Feature</td>\n",
       "      <td>{'type': 'Point', 'coordinates': [-74.672938, ...</td>\n",
       "      <td>{'access_code': 'public', 'access_days_time': ...</td>\n",
       "    </tr>\n",
       "    <tr>\n",
       "      <th>1</th>\n",
       "      <td>Feature</td>\n",
       "      <td>{'type': 'Point', 'coordinates': [-78.85922572...</td>\n",
       "      <td>{'access_code': 'public', 'access_days_time': ...</td>\n",
       "    </tr>\n",
       "    <tr>\n",
       "      <th>2</th>\n",
       "      <td>Feature</td>\n",
       "      <td>{'type': 'Point', 'coordinates': [-73.634055, ...</td>\n",
       "      <td>{'access_code': 'public', 'access_days_time': ...</td>\n",
       "    </tr>\n",
       "    <tr>\n",
       "      <th>3</th>\n",
       "      <td>Feature</td>\n",
       "      <td>{'type': 'Point', 'coordinates': [-73.160001, ...</td>\n",
       "      <td>{'access_code': 'public', 'access_days_time': ...</td>\n",
       "    </tr>\n",
       "    <tr>\n",
       "      <th>4</th>\n",
       "      <td>Feature</td>\n",
       "      <td>{'type': 'Point', 'coordinates': [-76.6744609,...</td>\n",
       "      <td>{'access_code': 'public', 'access_days_time': ...</td>\n",
       "    </tr>\n",
       "    <tr>\n",
       "      <th>5</th>\n",
       "      <td>Feature</td>\n",
       "      <td>{'type': 'Point', 'coordinates': [-73.558148, ...</td>\n",
       "      <td>{'access_code': 'public', 'access_days_time': ...</td>\n",
       "    </tr>\n",
       "    <tr>\n",
       "      <th>6</th>\n",
       "      <td>Feature</td>\n",
       "      <td>{'type': 'Point', 'coordinates': [-73.580334, ...</td>\n",
       "      <td>{'access_code': 'private', 'access_days_time':...</td>\n",
       "    </tr>\n",
       "    <tr>\n",
       "      <th>7</th>\n",
       "      <td>Feature</td>\n",
       "      <td>{'type': 'Point', 'coordinates': [-73.855453, ...</td>\n",
       "      <td>{'access_code': 'private', 'access_days_time':...</td>\n",
       "    </tr>\n",
       "    <tr>\n",
       "      <th>8</th>\n",
       "      <td>Feature</td>\n",
       "      <td>{'type': 'Point', 'coordinates': [-77.65186, 4...</td>\n",
       "      <td>{'access_code': 'private', 'access_days_time':...</td>\n",
       "    </tr>\n",
       "    <tr>\n",
       "      <th>9</th>\n",
       "      <td>Feature</td>\n",
       "      <td>{'type': 'Point', 'coordinates': [-74.384605, ...</td>\n",
       "      <td>{'access_code': 'public', 'access_days_time': ...</td>\n",
       "    </tr>\n",
       "    <tr>\n",
       "      <th>10</th>\n",
       "      <td>Feature</td>\n",
       "      <td>{'type': 'Point', 'coordinates': [-74.313151, ...</td>\n",
       "      <td>{'access_code': 'public', 'access_days_time': ...</td>\n",
       "    </tr>\n",
       "    <tr>\n",
       "      <th>11</th>\n",
       "      <td>Feature</td>\n",
       "      <td>{'type': 'Point', 'coordinates': [-73.462166, ...</td>\n",
       "      <td>{'access_code': 'public', 'access_days_time': ...</td>\n",
       "    </tr>\n",
       "    <tr>\n",
       "      <th>12</th>\n",
       "      <td>Feature</td>\n",
       "      <td>{'type': 'Point', 'coordinates': [-74.869904, ...</td>\n",
       "      <td>{'access_code': 'public', 'access_days_time': ...</td>\n",
       "    </tr>\n",
       "    <tr>\n",
       "      <th>13</th>\n",
       "      <td>Feature</td>\n",
       "      <td>{'type': 'Point', 'coordinates': [-78.980875, ...</td>\n",
       "      <td>{'access_code': 'public', 'access_days_time': ...</td>\n",
       "    </tr>\n",
       "    <tr>\n",
       "      <th>14</th>\n",
       "      <td>Feature</td>\n",
       "      <td>{'type': 'Point', 'coordinates': [-74.050373, ...</td>\n",
       "      <td>{'access_code': 'public', 'access_days_time': ...</td>\n",
       "    </tr>\n",
       "    <tr>\n",
       "      <th>15</th>\n",
       "      <td>Feature</td>\n",
       "      <td>{'type': 'Point', 'coordinates': [-73.928773, ...</td>\n",
       "      <td>{'access_code': 'public', 'access_days_time': ...</td>\n",
       "    </tr>\n",
       "    <tr>\n",
       "      <th>16</th>\n",
       "      <td>Feature</td>\n",
       "      <td>{'type': 'Point', 'coordinates': [-76.909097, ...</td>\n",
       "      <td>{'access_code': 'public', 'access_days_time': ...</td>\n",
       "    </tr>\n",
       "    <tr>\n",
       "      <th>17</th>\n",
       "      <td>Feature</td>\n",
       "      <td>{'type': 'Point', 'coordinates': [-77.57094, 4...</td>\n",
       "      <td>{'access_code': 'private', 'access_days_time':...</td>\n",
       "    </tr>\n",
       "    <tr>\n",
       "      <th>18</th>\n",
       "      <td>Feature</td>\n",
       "      <td>{'type': 'Point', 'coordinates': [-73.646191, ...</td>\n",
       "      <td>{'access_code': 'public', 'access_days_time': ...</td>\n",
       "    </tr>\n",
       "    <tr>\n",
       "      <th>19</th>\n",
       "      <td>Feature</td>\n",
       "      <td>{'type': 'Point', 'coordinates': [-76.107338, ...</td>\n",
       "      <td>{'access_code': 'public', 'access_days_time': ...</td>\n",
       "    </tr>\n",
       "    <tr>\n",
       "      <th>20</th>\n",
       "      <td>Feature</td>\n",
       "      <td>{'type': 'Point', 'coordinates': [-73.675593, ...</td>\n",
       "      <td>{'access_code': 'public', 'access_days_time': ...</td>\n",
       "    </tr>\n",
       "    <tr>\n",
       "      <th>21</th>\n",
       "      <td>Feature</td>\n",
       "      <td>{'type': 'Point', 'coordinates': [-75.456128, ...</td>\n",
       "      <td>{'access_code': 'public', 'access_days_time': ...</td>\n",
       "    </tr>\n",
       "    <tr>\n",
       "      <th>22</th>\n",
       "      <td>Feature</td>\n",
       "      <td>{'type': 'Point', 'coordinates': [-73.693527, ...</td>\n",
       "      <td>{'access_code': 'public', 'access_days_time': ...</td>\n",
       "    </tr>\n",
       "    <tr>\n",
       "      <th>23</th>\n",
       "      <td>Feature</td>\n",
       "      <td>{'type': 'Point', 'coordinates': [-78.696704, ...</td>\n",
       "      <td>{'access_code': 'public', 'access_days_time': ...</td>\n",
       "    </tr>\n",
       "    <tr>\n",
       "      <th>24</th>\n",
       "      <td>Feature</td>\n",
       "      <td>{'type': 'Point', 'coordinates': [-75.91733, 4...</td>\n",
       "      <td>{'access_code': 'public', 'access_days_time': ...</td>\n",
       "    </tr>\n",
       "    <tr>\n",
       "      <th>25</th>\n",
       "      <td>Feature</td>\n",
       "      <td>{'type': 'Point', 'coordinates': [-78.752089, ...</td>\n",
       "      <td>{'access_code': 'public', 'access_days_time': ...</td>\n",
       "    </tr>\n",
       "    <tr>\n",
       "      <th>26</th>\n",
       "      <td>Feature</td>\n",
       "      <td>{'type': 'Point', 'coordinates': [-76.124668, ...</td>\n",
       "      <td>{'access_code': 'public', 'access_days_time': ...</td>\n",
       "    </tr>\n",
       "    <tr>\n",
       "      <th>27</th>\n",
       "      <td>Feature</td>\n",
       "      <td>{'type': 'Point', 'coordinates': [-78.911044, ...</td>\n",
       "      <td>{'access_code': 'public', 'access_days_time': ...</td>\n",
       "    </tr>\n",
       "    <tr>\n",
       "      <th>28</th>\n",
       "      <td>Feature</td>\n",
       "      <td>{'type': 'Point', 'coordinates': [-75.289786, ...</td>\n",
       "      <td>{'access_code': 'public', 'access_days_time': ...</td>\n",
       "    </tr>\n",
       "    <tr>\n",
       "      <th>29</th>\n",
       "      <td>Feature</td>\n",
       "      <td>{'type': 'Point', 'coordinates': [-75.981663, ...</td>\n",
       "      <td>{'access_code': 'public', 'access_days_time': ...</td>\n",
       "    </tr>\n",
       "    <tr>\n",
       "      <th>30</th>\n",
       "      <td>Feature</td>\n",
       "      <td>{'type': 'Point', 'coordinates': [-77.444356, ...</td>\n",
       "      <td>{'access_code': 'public', 'access_days_time': ...</td>\n",
       "    </tr>\n",
       "    <tr>\n",
       "      <th>31</th>\n",
       "      <td>Feature</td>\n",
       "      <td>{'type': 'Point', 'coordinates': [-73.750972, ...</td>\n",
       "      <td>{'access_code': 'public', 'access_days_time': ...</td>\n",
       "    </tr>\n",
       "    <tr>\n",
       "      <th>32</th>\n",
       "      <td>Feature</td>\n",
       "      <td>{'type': 'Point', 'coordinates': [-73.867904, ...</td>\n",
       "      <td>{'access_code': 'public', 'access_days_time': ...</td>\n",
       "    </tr>\n",
       "    <tr>\n",
       "      <th>33</th>\n",
       "      <td>Feature</td>\n",
       "      <td>{'type': 'Point', 'coordinates': [-76.581206, ...</td>\n",
       "      <td>{'access_code': 'public', 'access_days_time': ...</td>\n",
       "    </tr>\n",
       "    <tr>\n",
       "      <th>34</th>\n",
       "      <td>Feature</td>\n",
       "      <td>{'type': 'Point', 'coordinates': [-75.123441, ...</td>\n",
       "      <td>{'access_code': 'public', 'access_days_time': ...</td>\n",
       "    </tr>\n",
       "    <tr>\n",
       "      <th>35</th>\n",
       "      <td>Feature</td>\n",
       "      <td>{'type': 'Point', 'coordinates': [-76.833014, ...</td>\n",
       "      <td>{'access_code': 'public', 'access_days_time': ...</td>\n",
       "    </tr>\n",
       "    <tr>\n",
       "      <th>36</th>\n",
       "      <td>Feature</td>\n",
       "      <td>{'type': 'Point', 'coordinates': [-77.702153, ...</td>\n",
       "      <td>{'access_code': 'public', 'access_days_time': ...</td>\n",
       "    </tr>\n",
       "    <tr>\n",
       "      <th>37</th>\n",
       "      <td>Feature</td>\n",
       "      <td>{'type': 'Point', 'coordinates': [-77.652374, ...</td>\n",
       "      <td>{'access_code': 'public', 'access_days_time': ...</td>\n",
       "    </tr>\n",
       "    <tr>\n",
       "      <th>38</th>\n",
       "      <td>Feature</td>\n",
       "      <td>{'type': 'Point', 'coordinates': [-73.498311, ...</td>\n",
       "      <td>{'access_code': 'public', 'access_days_time': ...</td>\n",
       "    </tr>\n",
       "    <tr>\n",
       "      <th>39</th>\n",
       "      <td>Feature</td>\n",
       "      <td>{'type': 'Point', 'coordinates': [-77.567113, ...</td>\n",
       "      <td>{'access_code': 'public', 'access_days_time': ...</td>\n",
       "    </tr>\n",
       "    <tr>\n",
       "      <th>40</th>\n",
       "      <td>Feature</td>\n",
       "      <td>{'type': 'Point', 'coordinates': [-76.513925, ...</td>\n",
       "      <td>{'access_code': 'public', 'access_days_time': ...</td>\n",
       "    </tr>\n",
       "    <tr>\n",
       "      <th>41</th>\n",
       "      <td>Feature</td>\n",
       "      <td>{'type': 'Point', 'coordinates': [-74.786002, ...</td>\n",
       "      <td>{'access_code': 'private', 'access_days_time':...</td>\n",
       "    </tr>\n",
       "    <tr>\n",
       "      <th>42</th>\n",
       "      <td>Feature</td>\n",
       "      <td>{'type': 'Point', 'coordinates': [-79.634017, ...</td>\n",
       "      <td>{'access_code': 'public', 'access_days_time': ...</td>\n",
       "    </tr>\n",
       "    <tr>\n",
       "      <th>43</th>\n",
       "      <td>Feature</td>\n",
       "      <td>{'type': 'Point', 'coordinates': [-72.947099, ...</td>\n",
       "      <td>{'access_code': 'public', 'access_days_time': ...</td>\n",
       "    </tr>\n",
       "    <tr>\n",
       "      <th>44</th>\n",
       "      <td>Feature</td>\n",
       "      <td>{'type': 'Point', 'coordinates': [-75.99850832...</td>\n",
       "      <td>{'access_code': 'public', 'access_days_time': ...</td>\n",
       "    </tr>\n",
       "    <tr>\n",
       "      <th>45</th>\n",
       "      <td>Feature</td>\n",
       "      <td>{'type': 'Point', 'coordinates': [-73.949068, ...</td>\n",
       "      <td>{'access_code': 'public', 'access_days_time': ...</td>\n",
       "    </tr>\n",
       "    <tr>\n",
       "      <th>46</th>\n",
       "      <td>Feature</td>\n",
       "      <td>{'type': 'Point', 'coordinates': [-73.4223, 42...</td>\n",
       "      <td>{'access_code': 'private', 'access_days_time':...</td>\n",
       "    </tr>\n",
       "    <tr>\n",
       "      <th>47</th>\n",
       "      <td>Feature</td>\n",
       "      <td>{'type': 'Point', 'coordinates': [-74.794855, ...</td>\n",
       "      <td>{'access_code': 'private', 'access_days_time':...</td>\n",
       "    </tr>\n",
       "    <tr>\n",
       "      <th>48</th>\n",
       "      <td>Feature</td>\n",
       "      <td>{'type': 'Point', 'coordinates': [-74.640756, ...</td>\n",
       "      <td>{'access_code': 'public', 'access_days_time': ...</td>\n",
       "    </tr>\n",
       "  </tbody>\n",
       "</table>\n",
       "</div>"
      ],
      "text/plain": [
       "       type                                           geometry  \\\n",
       "0   Feature  {'type': 'Point', 'coordinates': [-74.672938, ...   \n",
       "1   Feature  {'type': 'Point', 'coordinates': [-78.85922572...   \n",
       "2   Feature  {'type': 'Point', 'coordinates': [-73.634055, ...   \n",
       "3   Feature  {'type': 'Point', 'coordinates': [-73.160001, ...   \n",
       "4   Feature  {'type': 'Point', 'coordinates': [-76.6744609,...   \n",
       "5   Feature  {'type': 'Point', 'coordinates': [-73.558148, ...   \n",
       "6   Feature  {'type': 'Point', 'coordinates': [-73.580334, ...   \n",
       "7   Feature  {'type': 'Point', 'coordinates': [-73.855453, ...   \n",
       "8   Feature  {'type': 'Point', 'coordinates': [-77.65186, 4...   \n",
       "9   Feature  {'type': 'Point', 'coordinates': [-74.384605, ...   \n",
       "10  Feature  {'type': 'Point', 'coordinates': [-74.313151, ...   \n",
       "11  Feature  {'type': 'Point', 'coordinates': [-73.462166, ...   \n",
       "12  Feature  {'type': 'Point', 'coordinates': [-74.869904, ...   \n",
       "13  Feature  {'type': 'Point', 'coordinates': [-78.980875, ...   \n",
       "14  Feature  {'type': 'Point', 'coordinates': [-74.050373, ...   \n",
       "15  Feature  {'type': 'Point', 'coordinates': [-73.928773, ...   \n",
       "16  Feature  {'type': 'Point', 'coordinates': [-76.909097, ...   \n",
       "17  Feature  {'type': 'Point', 'coordinates': [-77.57094, 4...   \n",
       "18  Feature  {'type': 'Point', 'coordinates': [-73.646191, ...   \n",
       "19  Feature  {'type': 'Point', 'coordinates': [-76.107338, ...   \n",
       "20  Feature  {'type': 'Point', 'coordinates': [-73.675593, ...   \n",
       "21  Feature  {'type': 'Point', 'coordinates': [-75.456128, ...   \n",
       "22  Feature  {'type': 'Point', 'coordinates': [-73.693527, ...   \n",
       "23  Feature  {'type': 'Point', 'coordinates': [-78.696704, ...   \n",
       "24  Feature  {'type': 'Point', 'coordinates': [-75.91733, 4...   \n",
       "25  Feature  {'type': 'Point', 'coordinates': [-78.752089, ...   \n",
       "26  Feature  {'type': 'Point', 'coordinates': [-76.124668, ...   \n",
       "27  Feature  {'type': 'Point', 'coordinates': [-78.911044, ...   \n",
       "28  Feature  {'type': 'Point', 'coordinates': [-75.289786, ...   \n",
       "29  Feature  {'type': 'Point', 'coordinates': [-75.981663, ...   \n",
       "30  Feature  {'type': 'Point', 'coordinates': [-77.444356, ...   \n",
       "31  Feature  {'type': 'Point', 'coordinates': [-73.750972, ...   \n",
       "32  Feature  {'type': 'Point', 'coordinates': [-73.867904, ...   \n",
       "33  Feature  {'type': 'Point', 'coordinates': [-76.581206, ...   \n",
       "34  Feature  {'type': 'Point', 'coordinates': [-75.123441, ...   \n",
       "35  Feature  {'type': 'Point', 'coordinates': [-76.833014, ...   \n",
       "36  Feature  {'type': 'Point', 'coordinates': [-77.702153, ...   \n",
       "37  Feature  {'type': 'Point', 'coordinates': [-77.652374, ...   \n",
       "38  Feature  {'type': 'Point', 'coordinates': [-73.498311, ...   \n",
       "39  Feature  {'type': 'Point', 'coordinates': [-77.567113, ...   \n",
       "40  Feature  {'type': 'Point', 'coordinates': [-76.513925, ...   \n",
       "41  Feature  {'type': 'Point', 'coordinates': [-74.786002, ...   \n",
       "42  Feature  {'type': 'Point', 'coordinates': [-79.634017, ...   \n",
       "43  Feature  {'type': 'Point', 'coordinates': [-72.947099, ...   \n",
       "44  Feature  {'type': 'Point', 'coordinates': [-75.99850832...   \n",
       "45  Feature  {'type': 'Point', 'coordinates': [-73.949068, ...   \n",
       "46  Feature  {'type': 'Point', 'coordinates': [-73.4223, 42...   \n",
       "47  Feature  {'type': 'Point', 'coordinates': [-74.794855, ...   \n",
       "48  Feature  {'type': 'Point', 'coordinates': [-74.640756, ...   \n",
       "\n",
       "                                           properties  \n",
       "0   {'access_code': 'public', 'access_days_time': ...  \n",
       "1   {'access_code': 'public', 'access_days_time': ...  \n",
       "2   {'access_code': 'public', 'access_days_time': ...  \n",
       "3   {'access_code': 'public', 'access_days_time': ...  \n",
       "4   {'access_code': 'public', 'access_days_time': ...  \n",
       "5   {'access_code': 'public', 'access_days_time': ...  \n",
       "6   {'access_code': 'private', 'access_days_time':...  \n",
       "7   {'access_code': 'private', 'access_days_time':...  \n",
       "8   {'access_code': 'private', 'access_days_time':...  \n",
       "9   {'access_code': 'public', 'access_days_time': ...  \n",
       "10  {'access_code': 'public', 'access_days_time': ...  \n",
       "11  {'access_code': 'public', 'access_days_time': ...  \n",
       "12  {'access_code': 'public', 'access_days_time': ...  \n",
       "13  {'access_code': 'public', 'access_days_time': ...  \n",
       "14  {'access_code': 'public', 'access_days_time': ...  \n",
       "15  {'access_code': 'public', 'access_days_time': ...  \n",
       "16  {'access_code': 'public', 'access_days_time': ...  \n",
       "17  {'access_code': 'private', 'access_days_time':...  \n",
       "18  {'access_code': 'public', 'access_days_time': ...  \n",
       "19  {'access_code': 'public', 'access_days_time': ...  \n",
       "20  {'access_code': 'public', 'access_days_time': ...  \n",
       "21  {'access_code': 'public', 'access_days_time': ...  \n",
       "22  {'access_code': 'public', 'access_days_time': ...  \n",
       "23  {'access_code': 'public', 'access_days_time': ...  \n",
       "24  {'access_code': 'public', 'access_days_time': ...  \n",
       "25  {'access_code': 'public', 'access_days_time': ...  \n",
       "26  {'access_code': 'public', 'access_days_time': ...  \n",
       "27  {'access_code': 'public', 'access_days_time': ...  \n",
       "28  {'access_code': 'public', 'access_days_time': ...  \n",
       "29  {'access_code': 'public', 'access_days_time': ...  \n",
       "30  {'access_code': 'public', 'access_days_time': ...  \n",
       "31  {'access_code': 'public', 'access_days_time': ...  \n",
       "32  {'access_code': 'public', 'access_days_time': ...  \n",
       "33  {'access_code': 'public', 'access_days_time': ...  \n",
       "34  {'access_code': 'public', 'access_days_time': ...  \n",
       "35  {'access_code': 'public', 'access_days_time': ...  \n",
       "36  {'access_code': 'public', 'access_days_time': ...  \n",
       "37  {'access_code': 'public', 'access_days_time': ...  \n",
       "38  {'access_code': 'public', 'access_days_time': ...  \n",
       "39  {'access_code': 'public', 'access_days_time': ...  \n",
       "40  {'access_code': 'public', 'access_days_time': ...  \n",
       "41  {'access_code': 'private', 'access_days_time':...  \n",
       "42  {'access_code': 'public', 'access_days_time': ...  \n",
       "43  {'access_code': 'public', 'access_days_time': ...  \n",
       "44  {'access_code': 'public', 'access_days_time': ...  \n",
       "45  {'access_code': 'public', 'access_days_time': ...  \n",
       "46  {'access_code': 'private', 'access_days_time':...  \n",
       "47  {'access_code': 'private', 'access_days_time':...  \n",
       "48  {'access_code': 'public', 'access_days_time': ...  "
      ]
     },
     "execution_count": 106,
     "metadata": {},
     "output_type": "execute_result"
    }
   ],
   "source": [
    "# Creating a dataframe for analysis by creating a dictionary of data first\n",
    "# This is the raw form, not very usable\n",
    "features_LPG_NY_df = pd.DataFrame.from_dict(features_LPG_NY)\n",
    "features_LPG_NY_df"
   ]
  },
  {
   "cell_type": "markdown",
   "id": "97d34287",
   "metadata": {},
   "source": [
    "### Exporting Cleaned Dataframe to CSV"
   ]
  },
  {
   "cell_type": "code",
   "execution_count": 107,
   "id": "ceb918dc",
   "metadata": {},
   "outputs": [],
   "source": [
    "import csv\n",
    "\n",
    "# Identifying the data points you need from the data\n",
    "list_to_df = list() # We want to convert this list into a dataframe\n",
    "data_pt = dict() # This is each individual feature/record\n",
    "\n",
    "with open('../output_data/data_analysis/csv/LPG_NY.csv', 'w', newline='') as csvfile:\n",
    "    csvwriter = csv.writer(csvfile, delimiter=',')\n",
    "    \n",
    "    # Insert column headers\n",
    "    csvwriter.writerow(['id', 'state', 'coordinates','fuel type'])\n",
    "\n",
    "    for i, v in features_LPG_NY_df.iterrows():\n",
    "\n",
    "        data_pt['id'] = v['properties']['id']\n",
    "        data_pt['state'] = v['properties']['state']\n",
    "        data_pt['coordinates'] = v['geometry']['coordinates']\n",
    "        data_pt['fuel_type_code'] = v['properties']['fuel_type_code']\n",
    "\n",
    "        #print([data_pt['id'], data_pt['state'], data_pt['coordinates'],data_pt['fuel_type_code']])\n",
    "        csvwriter.writerow([data_pt['id'], data_pt['state'], data_pt['coordinates'],data_pt['fuel_type_code']])"
   ]
  }
 ],
 "metadata": {
  "kernelspec": {
   "display_name": "Python 3 (ipykernel)",
   "language": "python",
   "name": "python3"
  },
  "language_info": {
   "codemirror_mode": {
    "name": "ipython",
    "version": 3
   },
   "file_extension": ".py",
   "mimetype": "text/x-python",
   "name": "python",
   "nbconvert_exporter": "python",
   "pygments_lexer": "ipython3",
   "version": "3.10.10"
  }
 },
 "nbformat": 4,
 "nbformat_minor": 5
}
